{
 "cells": [
  {
   "cell_type": "code",
   "execution_count": null,
   "metadata": {
    "colab": {
     "base_uri": "https://localhost:8080/"
    },
    "id": "8kFf2AdcnQ2R",
    "outputId": "6363befc-c407-4259-bf0c-cfe9b30974b7"
   },
   "outputs": [
    {
     "name": "stdout",
     "output_type": "stream",
     "text": [
      "Looking in indexes: https://pypi.org/simple, https://us-python.pkg.dev/colab-wheels/public/simple/\n",
      "Collecting pyspark\n",
      "  Downloading pyspark-3.3.1.tar.gz (281.4 MB)\n",
      "\u001b[K     |████████████████████████████████| 281.4 MB 43 kB/s \n",
      "\u001b[?25hCollecting py4j==0.10.9.5\n",
      "  Downloading py4j-0.10.9.5-py2.py3-none-any.whl (199 kB)\n",
      "\u001b[K     |████████████████████████████████| 199 kB 51.6 MB/s \n",
      "\u001b[?25hBuilding wheels for collected packages: pyspark\n",
      "  Building wheel for pyspark (setup.py) ... \u001b[?25l\u001b[?25hdone\n",
      "  Created wheel for pyspark: filename=pyspark-3.3.1-py2.py3-none-any.whl size=281845513 sha256=010fbb6f96ee832b591c64803908bc8ccf273a148261e0c291be64ce58fa5944\n",
      "  Stored in directory: /root/.cache/pip/wheels/42/59/f5/79a5bf931714dcd201b26025347785f087370a10a3329a899c\n",
      "Successfully built pyspark\n",
      "Installing collected packages: py4j, pyspark\n",
      "Successfully installed py4j-0.10.9.5 pyspark-3.3.1\n"
     ]
    }
   ],
   "source": [
    "!pip install pyspark"
   ]
  },
  {
   "cell_type": "code",
   "execution_count": null,
   "metadata": {
    "id": "T3Ff4fNbm6MG"
   },
   "outputs": [],
   "source": []
  },
  {
   "cell_type": "code",
   "execution_count": null,
   "metadata": {
    "colab": {
     "base_uri": "https://localhost:8080/"
    },
    "id": "uQr9nKcem8Do",
    "outputId": "4b3f0af2-7ff3-4f44-f86f-6210d1e3ec49"
   },
   "outputs": [
    {
     "name": "stdout",
     "output_type": "stream",
     "text": [
      "Mounted at /content/gdrive\n"
     ]
    }
   ],
   "source": [
    "from google.colab import drive\n",
    "drive.mount('/content/gdrive', force_remount=True)"
   ]
  },
  {
   "cell_type": "code",
   "execution_count": null,
   "metadata": {
    "colab": {
     "base_uri": "https://localhost:8080/",
     "height": 36
    },
    "id": "7qrg8YnknJwn",
    "outputId": "f95c2b8b-5622-4800-9c48-bfe830364418"
   },
   "outputs": [
    {
     "data": {
      "application/vnd.google.colaboratory.intrinsic+json": {
       "type": "string"
      },
      "text/plain": [
       "'/content/gdrive/MyDrive/Rain Australia Pyspark'"
      ]
     },
     "execution_count": 4,
     "metadata": {},
     "output_type": "execute_result"
    }
   ],
   "source": [
    "import os\n",
    "os.chdir('/content/gdrive/MyDrive/Rain Australia Pyspark')\n",
    "os.getcwd()"
   ]
  },
  {
   "cell_type": "code",
   "execution_count": null,
   "metadata": {
    "colab": {
     "base_uri": "https://localhost:8080/"
    },
    "id": "-DEYwxTHoHGI",
    "outputId": "f5b13680-4043-4051-8abd-145a55611704"
   },
   "outputs": [
    {
     "name": "stderr",
     "output_type": "stream",
     "text": [
      "/usr/local/lib/python3.7/dist-packages/pyspark/sql/context.py:114: FutureWarning: Deprecated in 3.0.0. Use SparkSession.builder.getOrCreate() instead.\n",
      "  FutureWarning,\n"
     ]
    }
   ],
   "source": [
    "from pyspark import SparkContext\n",
    "from pyspark.sql import SQLContext\n",
    "# initialize a new Spark Context to use for the execution of the script\n",
    "sc = SparkContext(appName=\"rainTomm\", master=\"local[*]\")\n",
    "sqlCtx = SQLContext(sc)"
   ]
  },
  {
   "cell_type": "markdown",
   "metadata": {
    "id": "FeQsAmyKoWmf"
   },
   "source": [
    "# Read the data set and Perform Exploratory data analysis "
   ]
  },
  {
   "cell_type": "code",
   "execution_count": null,
   "metadata": {
    "id": "5wOkXME4oHEX"
   },
   "outputs": [],
   "source": [
    "filename = 'weatherAUS.csv'\n",
    "df = sqlCtx.read.load(filename,\n",
    "                     format=\"csv\", sep=\",\", inferSchema=\"true\", header=\"true\")"
   ]
  },
  {
   "cell_type": "code",
   "execution_count": null,
   "metadata": {
    "colab": {
     "base_uri": "https://localhost:8080/"
    },
    "id": "jT1ch1TSoHB5",
    "outputId": "c53d9002-5407-4d58-d136-bd4a38dde615"
   },
   "outputs": [
    {
     "name": "stdout",
     "output_type": "stream",
     "text": [
      "root\n",
      " |-- Date: timestamp (nullable = true)\n",
      " |-- Location: string (nullable = true)\n",
      " |-- MinTemp: string (nullable = true)\n",
      " |-- MaxTemp: string (nullable = true)\n",
      " |-- Rainfall: string (nullable = true)\n",
      " |-- Evaporation: string (nullable = true)\n",
      " |-- Sunshine: string (nullable = true)\n",
      " |-- WindGustDir: string (nullable = true)\n",
      " |-- WindGustSpeed: string (nullable = true)\n",
      " |-- WindDir9am: string (nullable = true)\n",
      " |-- WindDir3pm: string (nullable = true)\n",
      " |-- WindSpeed9am: string (nullable = true)\n",
      " |-- WindSpeed3pm: string (nullable = true)\n",
      " |-- Humidity9am: string (nullable = true)\n",
      " |-- Humidity3pm: string (nullable = true)\n",
      " |-- Pressure9am: string (nullable = true)\n",
      " |-- Pressure3pm: string (nullable = true)\n",
      " |-- Cloud9am: string (nullable = true)\n",
      " |-- Cloud3pm: string (nullable = true)\n",
      " |-- Temp9am: string (nullable = true)\n",
      " |-- Temp3pm: string (nullable = true)\n",
      " |-- RainToday: string (nullable = true)\n",
      " |-- RainTomorrow: string (nullable = true)\n",
      "\n"
     ]
    }
   ],
   "source": [
    "df.printSchema()"
   ]
  },
  {
   "cell_type": "code",
   "execution_count": null,
   "metadata": {
    "colab": {
     "base_uri": "https://localhost:8080/"
    },
    "id": "KhuWAe66oG_P",
    "outputId": "d2a1b9b6-d988-49bd-eec8-536357567817"
   },
   "outputs": [
    {
     "name": "stdout",
     "output_type": "stream",
     "text": [
      "+-------------------+--------+-------+-------+--------+-----------+--------+-----------+-------------+----------+----------+------------+------------+-----------+-----------+-----------+-----------+--------+--------+-------+-------+---------+------------+\n",
      "|               Date|Location|MinTemp|MaxTemp|Rainfall|Evaporation|Sunshine|WindGustDir|WindGustSpeed|WindDir9am|WindDir3pm|WindSpeed9am|WindSpeed3pm|Humidity9am|Humidity3pm|Pressure9am|Pressure3pm|Cloud9am|Cloud3pm|Temp9am|Temp3pm|RainToday|RainTomorrow|\n",
      "+-------------------+--------+-------+-------+--------+-----------+--------+-----------+-------------+----------+----------+------------+------------+-----------+-----------+-----------+-----------+--------+--------+-------+-------+---------+------------+\n",
      "|2008-12-01 00:00:00|  Albury|   13.4|   22.9|     0.6|         NA|      NA|          W|           44|         W|       WNW|          20|          24|         71|         22|     1007.7|     1007.1|       8|      NA|   16.9|   21.8|       No|          No|\n",
      "|2008-12-02 00:00:00|  Albury|    7.4|   25.1|       0|         NA|      NA|        WNW|           44|       NNW|       WSW|           4|          22|         44|         25|     1010.6|     1007.8|      NA|      NA|   17.2|   24.3|       No|          No|\n",
      "|2008-12-03 00:00:00|  Albury|   12.9|   25.7|       0|         NA|      NA|        WSW|           46|         W|       WSW|          19|          26|         38|         30|     1007.6|     1008.7|      NA|       2|     21|   23.2|       No|          No|\n",
      "|2008-12-04 00:00:00|  Albury|    9.2|     28|       0|         NA|      NA|         NE|           24|        SE|         E|          11|           9|         45|         16|     1017.6|     1012.8|      NA|      NA|   18.1|   26.5|       No|          No|\n",
      "|2008-12-05 00:00:00|  Albury|   17.5|   32.3|       1|         NA|      NA|          W|           41|       ENE|        NW|           7|          20|         82|         33|     1010.8|       1006|       7|       8|   17.8|   29.7|       No|          No|\n",
      "+-------------------+--------+-------+-------+--------+-----------+--------+-----------+-------------+----------+----------+------------+------------+-----------+-----------+-----------+-----------+--------+--------+-------+-------+---------+------------+\n",
      "only showing top 5 rows\n",
      "\n"
     ]
    }
   ],
   "source": [
    "df.show(5)"
   ]
  },
  {
   "cell_type": "code",
   "execution_count": null,
   "metadata": {
    "colab": {
     "base_uri": "https://localhost:8080/"
    },
    "id": "ACe50PE5qAGg",
    "outputId": "885abbe1-36a1-451d-ce2c-a1b4bf37664f"
   },
   "outputs": [
    {
     "name": "stdout",
     "output_type": "stream",
     "text": [
      "DataFrame Rows count : 145460\n"
     ]
    }
   ],
   "source": [
    "# Get row count\n",
    "rows = df.count()\n",
    "print(f\"DataFrame Rows count : {rows}\")"
   ]
  },
  {
   "cell_type": "code",
   "execution_count": null,
   "metadata": {
    "colab": {
     "base_uri": "https://localhost:8080/"
    },
    "id": "SFwS9wubnwLI",
    "outputId": "6a044020-0c6e-4433-db2a-90f5c7b2bed8"
   },
   "outputs": [
    {
     "name": "stdout",
     "output_type": "stream",
     "text": [
      "DataFrame Columns count : 23\n"
     ]
    }
   ],
   "source": [
    "# Get columns count\n",
    "cols = len(df.columns)\n",
    "print(f\"DataFrame Columns count : {cols}\")"
   ]
  },
  {
   "cell_type": "code",
   "execution_count": null,
   "metadata": {
    "colab": {
     "base_uri": "https://localhost:8080/"
    },
    "id": "DmLDF0yMqImX",
    "outputId": "329e090e-eb92-4a3b-9866-d495b4ac71d0"
   },
   "outputs": [
    {
     "name": "stdout",
     "output_type": "stream",
     "text": [
      "+------------------+\n",
      "|      avg(MinTemp)|\n",
      "+------------------+\n",
      "|12.194034380968894|\n",
      "+------------------+\n",
      "\n",
      "+------------------+\n",
      "|      avg(MaxTemp)|\n",
      "+------------------+\n",
      "|23.221348275647014|\n",
      "+------------------+\n",
      "\n",
      "+------------------+\n",
      "|     avg(Rainfall)|\n",
      "+------------------+\n",
      "|2.3609181499168272|\n",
      "+------------------+\n",
      "\n",
      "+------------------+\n",
      "|avg(WindGustSpeed)|\n",
      "+------------------+\n",
      "| 40.03523007167319|\n",
      "+------------------+\n",
      "\n",
      "+------------------+\n",
      "| avg(WindSpeed9am)|\n",
      "+------------------+\n",
      "|14.043425914971502|\n",
      "+------------------+\n",
      "\n",
      "+------------------+\n",
      "| avg(WindSpeed3pm)|\n",
      "+------------------+\n",
      "|18.662656778887342|\n",
      "+------------------+\n",
      "\n",
      "+-----------------+\n",
      "| avg(Humidity9am)|\n",
      "+-----------------+\n",
      "|68.88083133761887|\n",
      "+-----------------+\n",
      "\n",
      "+----------------+\n",
      "|avg(Humidity3pm)|\n",
      "+----------------+\n",
      "|51.5391158755046|\n",
      "+----------------+\n",
      "\n",
      "+------------------+\n",
      "|  avg(Pressure9am)|\n",
      "+------------------+\n",
      "|1017.6499397983058|\n",
      "+------------------+\n",
      "\n"
     ]
    }
   ],
   "source": [
    "# lets see average of numerical columns\n",
    "numeric=[\"MinTemp\",\"MaxTemp\",\"Rainfall\",\"WindGustSpeed\",\"WindSpeed9am\",\"WindSpeed3pm\",\"Humidity9am\",\n",
    "                  \"Humidity3pm\",\"Pressure9am\",\"Pressure3pm\"]\n",
    "from pyspark.sql.functions import mean\n",
    "numeric_col = [df['MinTemp'],df['MaxTemp'],df['Rainfall'],df['WindGustSpeed'],df['WindSpeed9am'],df['WindSpeed3pm'],df['Humidity9am'],df['Humidity3pm'],df['Pressure9am']]\n",
    "for i in numeric_col:\n",
    "  average = df.select([mean(i)]).show()\n",
    "  average"
   ]
  },
  {
   "cell_type": "code",
   "execution_count": null,
   "metadata": {
    "colab": {
     "base_uri": "https://localhost:8080/"
    },
    "id": "9Ti-1yqvw8tu",
    "outputId": "fa1a29eb-b281-4d22-8d9b-f66c9d3417c2"
   },
   "outputs": [
    {
     "name": "stdout",
     "output_type": "stream",
     "text": [
      "+-------+------------------+------------------+------------------+------------------+------------------+------------------+\n",
      "|summary|      WindSpeed9am|      WindSpeed3pm|       Humidity9am|       Humidity3pm|       Pressure9am|       Pressure3pm|\n",
      "+-------+------------------+------------------+------------------+------------------+------------------+------------------+\n",
      "|  count|            145460|            145460|            145460|            145460|            145460|            145460|\n",
      "|   mean|14.043425914971502|18.662656778887342| 68.88083133761887|  51.5391158755046|1017.6499397983058|1015.2558888309709|\n",
      "| stddev|  8.91537532267949| 8.809800021251455|19.029164451844167|20.795901656021204| 7.106530287523044|   7.0374138081683|\n",
      "|    min|                 0|                 0|                 0|                 0|              1000|              1000|\n",
      "|    max|                NA|                NA|                NA|                NA|                NA|                NA|\n",
      "+-------+------------------+------------------+------------------+------------------+------------------+------------------+\n",
      "\n"
     ]
    }
   ],
   "source": [
    "df.describe('WindSpeed9am',\n",
    " 'WindSpeed3pm',\n",
    " 'Humidity9am',\n",
    " 'Humidity3pm',\n",
    " 'Pressure9am',\n",
    " 'Pressure3pm').show()"
   ]
  },
  {
   "cell_type": "code",
   "execution_count": null,
   "metadata": {
    "colab": {
     "base_uri": "https://localhost:8080/"
    },
    "id": "wbTLxmtJxGqQ",
    "outputId": "4f6c433e-072d-4820-915e-ea45415970ee"
   },
   "outputs": [
    {
     "name": "stdout",
     "output_type": "stream",
     "text": [
      "+-------+------------------+-----------------+------------------+-----------------+\n",
      "|summary|          Cloud9am|         Cloud3pm|           Temp9am|          Temp3pm|\n",
      "+-------+------------------+-----------------+------------------+-----------------+\n",
      "|  count|            145460|           145460|            145460|           145460|\n",
      "|   mean|4.4474612602152455|4.509930082924903|16.990631415587398|21.68339031800979|\n",
      "| stddev|2.8871588535172408|2.720357310332465| 6.488753140877276|6.936650460035533|\n",
      "|    min|                 0|                0|              -0.1|             -0.1|\n",
      "|    max|                NA|               NA|                NA|               NA|\n",
      "+-------+------------------+-----------------+------------------+-----------------+\n",
      "\n"
     ]
    }
   ],
   "source": [
    "df.describe('Cloud9am',\n",
    " 'Cloud3pm',\n",
    " 'Temp9am',\n",
    " 'Temp3pm').show()"
   ]
  },
  {
   "cell_type": "code",
   "execution_count": null,
   "metadata": {
    "id": "9vzWwWNVsORg"
   },
   "outputs": [],
   "source": [
    "# Extracting  Month\n",
    "import pyspark.sql.functions as F\n",
    "from pyspark.sql.functions import when, col, isnan, count,  regexp_replace, udf\n",
    "df2 = df.withColumn(\"Month\", F.regexp_extract(col(\"Date\"), r'(\\d{1,2})/(\\d{1,2})/(\\d{4})', 2))\n",
    "\n",
    "# Extracting  Season\n",
    "df2 = df2.withColumn(\"Season\", when((df2.Month ==12.0),\"Winter\") \\\n",
    "                               .when((df2.Month > 2.0) & (df2.Month <=5.0),\"Spring\") \\\n",
    "                               .when((df2.Month > 5.0) & (df2.Month <=8.0),\"Summer\")\n",
    "                                .otherwise(\"Fall\"))"
   ]
  },
  {
   "cell_type": "code",
   "execution_count": null,
   "metadata": {
    "colab": {
     "base_uri": "https://localhost:8080/"
    },
    "id": "VC3tKftzsABP",
    "outputId": "be4e69f0-c3bb-4b0a-d742-309df32cabe8"
   },
   "outputs": [
    {
     "name": "stdout",
     "output_type": "stream",
     "text": [
      "+------+----------+\n",
      "|Season|percentage|\n",
      "+------+----------+\n",
      "|  Fall|     100.0|\n",
      "+------+----------+\n",
      "\n"
     ]
    }
   ],
   "source": [
    "# using query aggregate finding seasons highes value\n",
    "df2.createOrReplaceTempView(\"tmp\")\n",
    "tot = df2.count()\n",
    "query = sqlCtx.sql(\"SELECT Season, count(*)/\"+str(tot)+\" * 100 as percentage FROM tmp GROUP BY Season ORDER BY percentage DESC\")\n",
    "query.show()"
   ]
  },
  {
   "cell_type": "code",
   "execution_count": null,
   "metadata": {
    "colab": {
     "base_uri": "https://localhost:8080/"
    },
    "id": "UJj6Mpaxsouz",
    "outputId": "de1afc19-cf2c-4416-90fe-49e786be284f"
   },
   "outputs": [
    {
     "data": {
      "text/plain": [
       "[Row(RainToday='NA', count(RainToday)=3261),\n",
       " Row(RainToday='Yes', count(RainToday)=31880),\n",
       " Row(RainToday='No', count(RainToday)=110319)]"
      ]
     },
     "execution_count": 16,
     "metadata": {},
     "output_type": "execute_result"
    }
   ],
   "source": [
    "# Count for categories in RainToday\n",
    "df.groupBy('RainToday').agg({'RainToday':'count'}).orderBy('count(RainToday)').collect()"
   ]
  },
  {
   "cell_type": "code",
   "execution_count": null,
   "metadata": {
    "colab": {
     "base_uri": "https://localhost:8080/"
    },
    "id": "vc_7bTtHszCz",
    "outputId": "1a4390f5-31a8-4ed5-eac5-f7c77c5857f3"
   },
   "outputs": [
    {
     "data": {
      "text/plain": [
       "[Row(RainTomorrow='NA', count(RainTomorrow)=3267),\n",
       " Row(RainTomorrow='Yes', count(RainTomorrow)=31877),\n",
       " Row(RainTomorrow='No', count(RainTomorrow)=110316)]"
      ]
     },
     "execution_count": 17,
     "metadata": {},
     "output_type": "execute_result"
    }
   ],
   "source": [
    "# Count for categories in RainTomorrow\n",
    "df.groupBy('RainTomorrow').agg({'RainTomorrow':'count'}).orderBy('count(RainTomorrow)').collect()"
   ]
  },
  {
   "cell_type": "code",
   "execution_count": null,
   "metadata": {
    "colab": {
     "base_uri": "https://localhost:8080/"
    },
    "id": "aPaSTQwGtApj",
    "outputId": "c13b1704-f125-4340-f607-f86059726ffa"
   },
   "outputs": [
    {
     "name": "stdout",
     "output_type": "stream",
     "text": [
      "+-----+--------+------------------+\n",
      "|Month|Sunshine|  avg(Evaporation)|\n",
      "+-----+--------+------------------+\n",
      "|     |    11.8| 8.020729366602692|\n",
      "|     |       0|3.9540760869565177|\n",
      "|     |       9| 4.526933701657454|\n",
      "|     |     0.8|3.7284345047923324|\n",
      "|     |    14.1| 7.233333333333333|\n",
      "+-----+--------+------------------+\n",
      "only showing top 5 rows\n",
      "\n"
     ]
    }
   ],
   "source": [
    "df2.groupBy(\"Month\",\"Sunshine\").agg({'Evaporation':'avg'}).sort('Month').show(5)"
   ]
  },
  {
   "cell_type": "code",
   "execution_count": null,
   "metadata": {
    "colab": {
     "base_uri": "https://localhost:8080/"
    },
    "id": "CSgnaavTlHEv",
    "outputId": "65f70619-3e34-448f-c7b0-1b63dc0a6907"
   },
   "outputs": [
    {
     "name": "stdout",
     "output_type": "stream",
     "text": [
      "+--------+--------+------------------+\n",
      "|Location|Sunshine|  avg(Evaporation)|\n",
      "+--------+--------+------------------+\n",
      "|Adelaide|    11.2| 7.488888888888888|\n",
      "|Adelaide|     2.8|5.1000000000000005|\n",
      "|Adelaide|     7.8| 5.046153846153846|\n",
      "|Adelaide|      11| 9.094117647058823|\n",
      "|Adelaide|       2|2.6333333333333333|\n",
      "+--------+--------+------------------+\n",
      "only showing top 5 rows\n",
      "\n"
     ]
    }
   ],
   "source": [
    "df2.groupBy(\"Location\",\"Sunshine\").agg({'Evaporation':'avg'}).sort('Location').show(5)"
   ]
  },
  {
   "cell_type": "code",
   "execution_count": null,
   "metadata": {
    "id": "vl_-2l-KlG7Q"
   },
   "outputs": [],
   "source": []
  },
  {
   "cell_type": "markdown",
   "metadata": {
    "id": "YoGeXpjetdGw"
   },
   "source": [
    "# Data Cleaning "
   ]
  },
  {
   "cell_type": "code",
   "execution_count": null,
   "metadata": {
    "colab": {
     "base_uri": "https://localhost:8080/"
    },
    "id": "GFHN01zttd9q",
    "outputId": "7ace8161-e5f7-41e0-f00e-f9b7025d60bd"
   },
   "outputs": [
    {
     "name": "stdout",
     "output_type": "stream",
     "text": [
      "+-----------+------+\n",
      "|WindGustDir| count|\n",
      "+-----------+------+\n",
      "|        WNW|  8252|\n",
      "|        SSW|  8736|\n",
      "|        NNE|  6548|\n",
      "|        SSE|  9216|\n",
      "|          N|  9313|\n",
      "|       null|145460|\n",
      "|         NW|  8122|\n",
      "|        ESE|  7372|\n",
      "|         NA| 10326|\n",
      "|        WSW|  9069|\n",
      "|          S|  9168|\n",
      "|        NNW|  6620|\n",
      "|        ENE|  8104|\n",
      "|          W|  9915|\n",
      "|         SW|  8967|\n",
      "|         SE|  9418|\n",
      "|         NE|  7133|\n",
      "|          E|  9181|\n",
      "+-----------+------+\n",
      "\n",
      "+----------+------+\n",
      "|WindDir9am| count|\n",
      "+----------+------+\n",
      "|       WNW|  7414|\n",
      "|       SSW|  7587|\n",
      "|       NNE|  8129|\n",
      "|       SSE|  9112|\n",
      "|         N| 11758|\n",
      "|      null|145460|\n",
      "|        NW|  8749|\n",
      "|       ESE|  7630|\n",
      "|        NA| 10566|\n",
      "|       WSW|  7024|\n",
      "|         S|  8659|\n",
      "|       NNW|  7980|\n",
      "|       ENE|  7836|\n",
      "|         W|  8459|\n",
      "|        SW|  8423|\n",
      "|        SE|  9287|\n",
      "|        NE|  7671|\n",
      "|         E|  9176|\n",
      "+----------+------+\n",
      "\n",
      "+----------+------+\n",
      "|WindDir3pm| count|\n",
      "+----------+------+\n",
      "|       WNW|  8874|\n",
      "|       SSW|  8156|\n",
      "|       NNE|  6590|\n",
      "|       SSE|  9399|\n",
      "|         N|  8890|\n",
      "|      null|145460|\n",
      "|        NW|  8610|\n",
      "|       ESE|  8505|\n",
      "|        NA|  4228|\n",
      "|       WSW|  9518|\n",
      "|         S|  9926|\n",
      "|       NNW|  7870|\n",
      "|       ENE|  7857|\n",
      "|         W| 10110|\n",
      "|        SW|  9354|\n",
      "|        SE| 10838|\n",
      "|        NE|  8263|\n",
      "|         E|  8472|\n",
      "+----------+------+\n",
      "\n",
      "+---------+------+\n",
      "|RainToday| count|\n",
      "+---------+------+\n",
      "|      Yes| 31880|\n",
      "|     null|145460|\n",
      "|       NA|  3261|\n",
      "|       No|110319|\n",
      "+---------+------+\n",
      "\n",
      "+------------+------+\n",
      "|RainTomorrow| count|\n",
      "+------------+------+\n",
      "|         Yes| 31877|\n",
      "|        null|145460|\n",
      "|          NA|  3267|\n",
      "|          No|110316|\n",
      "+------------+------+\n",
      "\n"
     ]
    }
   ],
   "source": [
    "categorical=['WindGustDir','WindDir9am','WindDir3pm','RainToday','RainTomorrow']\n",
    "\n",
    "for i in categorical:\n",
    "  freq_dis = df.cube(i).count().show()\n",
    "  freq_dis"
   ]
  },
  {
   "cell_type": "code",
   "execution_count": null,
   "metadata": {
    "id": "tdbk3Mkb1E_n"
   },
   "outputs": [],
   "source": []
  },
  {
   "cell_type": "code",
   "execution_count": null,
   "metadata": {
    "colab": {
     "base_uri": "https://localhost:8080/"
    },
    "id": "RpsBt-hy1DW3",
    "outputId": "d1da447e-c730-4c8b-cf9a-ff92abebf159"
   },
   "outputs": [
    {
     "name": "stdout",
     "output_type": "stream",
     "text": [
      "Number of NA(null) values in Date : 0\n",
      "Number of NA(null) values in Location : 0\n",
      "Number of NA(null) values in MinTemp : 1485\n",
      "Number of NA(null) values in MaxTemp : 1261\n",
      "Number of NA(null) values in Rainfall : 3261\n",
      "Number of NA(null) values in Evaporation : 62790\n",
      "Number of NA(null) values in Sunshine : 69835\n",
      "Number of NA(null) values in WindGustDir : 10326\n",
      "Number of NA(null) values in WindGustSpeed : 10263\n",
      "Number of NA(null) values in WindDir9am : 10566\n",
      "Number of NA(null) values in WindDir3pm : 4228\n",
      "Number of NA(null) values in WindSpeed9am : 1767\n",
      "Number of NA(null) values in WindSpeed3pm : 3062\n",
      "Number of NA(null) values in Humidity9am : 2654\n",
      "Number of NA(null) values in Humidity3pm : 4507\n",
      "Number of NA(null) values in Pressure9am : 15065\n",
      "Number of NA(null) values in Pressure3pm : 15028\n",
      "Number of NA(null) values in Cloud9am : 55888\n",
      "Number of NA(null) values in Cloud3pm : 59358\n",
      "Number of NA(null) values in Temp9am : 1767\n",
      "Number of NA(null) values in Temp3pm : 3609\n",
      "Number of NA(null) values in RainToday : 3261\n",
      "Number of NA(null) values in RainTomorrow : 3267\n"
     ]
    }
   ],
   "source": [
    "# Counting the number of NA(null) values in each column\n",
    "for column_name in df.columns:\n",
    "    print(\"Number of NA(null) values in\",column_name,\":\",df.filter(df[column_name] == \"NA\").count())\n"
   ]
  },
  {
   "cell_type": "code",
   "execution_count": null,
   "metadata": {
    "id": "54RR5CQA3GhB"
   },
   "outputs": [],
   "source": []
  },
  {
   "cell_type": "code",
   "execution_count": null,
   "metadata": {
    "id": "pPv7LE8H1GwC"
   },
   "outputs": [],
   "source": [
    "from pyspark.sql.functions import when\n",
    "import numpy as np\n",
    "\n",
    "columnNA = ['MinTemp', 'MaxTemp', 'Rainfall', 'Evaporation', 'Sunshine', 'WindGustDir', 'WindGustSpeed', 'WindDir9am', 'WindDir3pm', 'WindSpeed9am', 'WindSpeed3pm', 'Humidity9am', 'Humidity3pm', 'Pressure9am', 'Pressure3pm', 'Cloud9am', 'Cloud3pm', 'Temp9am', 'Temp3pm']\n",
    "for column in columnNA:\n",
    "    df = df.withColumn(column, when(df[column] == \"NA\", None).otherwise(df[column]))"
   ]
  },
  {
   "cell_type": "code",
   "execution_count": null,
   "metadata": {
    "colab": {
     "base_uri": "https://localhost:8080/"
    },
    "id": "lJ03K4kSx0U_",
    "outputId": "476d16d4-256e-4092-9a3e-041b8d8e76e3"
   },
   "outputs": [
    {
     "name": "stdout",
     "output_type": "stream",
     "text": [
      "+-------------------+--------+-------+-------+--------+-----------+--------+-----------+-------------+----------+----------+------------+------------+-----------+-----------+-----------+-----------+--------+--------+-------+-------+---------+------------+\n",
      "|               Date|Location|MinTemp|MaxTemp|Rainfall|Evaporation|Sunshine|WindGustDir|WindGustSpeed|WindDir9am|WindDir3pm|WindSpeed9am|WindSpeed3pm|Humidity9am|Humidity3pm|Pressure9am|Pressure3pm|Cloud9am|Cloud3pm|Temp9am|Temp3pm|RainToday|RainTomorrow|\n",
      "+-------------------+--------+-------+-------+--------+-----------+--------+-----------+-------------+----------+----------+------------+------------+-----------+-----------+-----------+-----------+--------+--------+-------+-------+---------+------------+\n",
      "|2009-01-01 00:00:00|   Cobar|   17.9|   35.2|       0|         12|    12.3|        SSW|           48|       ENE|        SW|           6|          20|         20|         13|     1006.3|     1004.4|       2|       5|   26.6|   33.4|       No|          No|\n",
      "|2009-01-02 00:00:00|   Cobar|   18.4|   28.9|       0|       14.8|      13|          S|           37|       SSE|       SSE|          19|          19|         30|          8|     1012.9|     1012.1|       1|       1|   20.3|     27|       No|          No|\n",
      "|2009-01-04 00:00:00|   Cobar|   19.4|   37.6|       0|       10.8|    10.6|        NNE|           46|       NNE|       NNW|          30|          15|         42|         22|     1012.3|     1009.2|       1|       6|   28.7|   34.9|       No|          No|\n",
      "|2009-01-05 00:00:00|   Cobar|   21.9|   38.4|       0|       11.4|    12.2|        WNW|           31|       WNW|       WSW|           6|           6|         37|         22|     1012.7|     1009.1|       1|       5|   29.1|   35.6|       No|          No|\n",
      "|2009-01-06 00:00:00|   Cobar|   24.2|     41|       0|       11.2|     8.4|        WNW|           35|        NW|       WNW|          17|          13|         19|         15|     1010.7|     1007.4|       1|       6|   33.6|   37.6|       No|          No|\n",
      "|2009-01-07 00:00:00|   Cobar|   27.1|   36.1|       0|         13|       0|          N|           43|         N|       WNW|           7|          20|         26|         19|     1007.7|     1007.4|       8|       8|   30.7|   34.3|       No|          No|\n",
      "|2009-01-08 00:00:00|   Cobar|   23.3|     34|       0|        9.8|    12.6|        SSW|           41|         S|       SSE|          17|          19|         33|         15|     1011.3|     1009.9|       3|       1|     25|   31.5|       No|          No|\n",
      "|2009-01-09 00:00:00|   Cobar|   16.1|   34.2|       0|       14.6|    13.2|         SE|           37|        SE|         S|          15|           6|         25|          9|     1013.3|     1009.2|       1|       1|   20.7|   32.8|       No|          No|\n",
      "|2009-01-10 00:00:00|   Cobar|     19|   35.5|       0|         12|    12.3|        ENE|           48|       ENE|       WSW|          30|           9|         46|         28|     1008.3|       1004|       1|       5|   23.4|   33.3|       No|          No|\n",
      "|2009-01-11 00:00:00|   Cobar|   19.7|   35.5|       0|         11|    12.7|         NE|           41|       NNE|       WSW|          15|          17|         61|         14|     1007.9|     1005.8|       1|       5|     24|   33.6|       No|          No|\n",
      "+-------------------+--------+-------+-------+--------+-----------+--------+-----------+-------------+----------+----------+------------+------------+-----------+-----------+-----------+-----------+--------+--------+-------+-------+---------+------------+\n",
      "only showing top 10 rows\n",
      "\n"
     ]
    }
   ],
   "source": [
    "# Removing null values \n",
    "\n",
    "from pyspark.sql.functions import when\n",
    "from pyspark.sql.functions import regexp_replace\n",
    "from pyspark.sql.types import FloatType\n",
    "from pyspark.sql.types import IntegerType\n",
    "\n",
    "df = df.na.drop()\n",
    "\n",
    "df.show(10)"
   ]
  },
  {
   "cell_type": "code",
   "execution_count": null,
   "metadata": {
    "id": "NPs0Hdvmq-Hz"
   },
   "outputs": [],
   "source": [
    "# dropping NA in target col\n",
    "df = df.filter(~(col('RainTomorrow') == 'NA'))\n",
    "# dropping NA in target col\n",
    "df = df.filter(~(col('RainTomorrow') == 'NA'))"
   ]
  },
  {
   "cell_type": "code",
   "execution_count": null,
   "metadata": {
    "colab": {
     "base_uri": "https://localhost:8080/"
    },
    "id": "erNbGn5Ux422",
    "outputId": "c5b8e156-12cc-4249-a255-c3a2e8d34518"
   },
   "outputs": [
    {
     "name": "stdout",
     "output_type": "stream",
     "text": [
      "Number of NA(null) values in Location : 0\n",
      "Number of NA(null) values in MinTemp : 0\n",
      "Number of NA(null) values in MaxTemp : 0\n",
      "Number of NA(null) values in Rainfall : 0\n",
      "Number of NA(null) values in Evaporation : 0\n",
      "Number of NA(null) values in Sunshine : 0\n",
      "Number of NA(null) values in WindGustDir : 0\n",
      "Number of NA(null) values in WindGustSpeed : 0\n",
      "Number of NA(null) values in WindDir9am : 0\n",
      "Number of NA(null) values in WindDir3pm : 0\n",
      "Number of NA(null) values in WindSpeed9am : 0\n",
      "Number of NA(null) values in WindSpeed3pm : 0\n",
      "Number of NA(null) values in Humidity9am : 0\n",
      "Number of NA(null) values in Humidity3pm : 0\n",
      "Number of NA(null) values in Pressure9am : 0\n",
      "Number of NA(null) values in Pressure3pm : 0\n",
      "Number of NA(null) values in Cloud9am : 0\n",
      "Number of NA(null) values in Cloud3pm : 0\n",
      "Number of NA(null) values in Temp9am : 0\n",
      "Number of NA(null) values in Temp3pm : 0\n",
      "Number of NA(null) values in RainToday : 0\n",
      "Number of NA(null) values in RainTomorrow : 0\n"
     ]
    }
   ],
   "source": [
    "# Counting the number of NA(null) values in each column again\n",
    "for column_name in df.columns:\n",
    "    print(\"Number of NA(null) values in\",column_name,\":\",df.filter(df[column_name] == \"NA\").count())\n"
   ]
  },
  {
   "cell_type": "code",
   "execution_count": null,
   "metadata": {
    "colab": {
     "base_uri": "https://localhost:8080/"
    },
    "id": "JLcDn3vZz60B",
    "outputId": "2c77d62e-0fd0-404a-ba06-942d3817ce62"
   },
   "outputs": [
    {
     "name": "stdout",
     "output_type": "stream",
     "text": [
      "+--------+-------+-------+--------+-----------+--------+-----------+-------------+----------+----------+------------+------------+-----------+-----------+-----------+-----------+--------+--------+-------+-------+---------+------------+\n",
      "|Location|MinTemp|MaxTemp|Rainfall|Evaporation|Sunshine|WindGustDir|WindGustSpeed|WindDir9am|WindDir3pm|WindSpeed9am|WindSpeed3pm|Humidity9am|Humidity3pm|Pressure9am|Pressure3pm|Cloud9am|Cloud3pm|Temp9am|Temp3pm|RainToday|RainTomorrow|\n",
      "+--------+-------+-------+--------+-----------+--------+-----------+-------------+----------+----------+------------+------------+-----------+-----------+-----------+-----------+--------+--------+-------+-------+---------+------------+\n",
      "+--------+-------+-------+--------+-----------+--------+-----------+-------------+----------+----------+------------+------------+-----------+-----------+-----------+-----------+--------+--------+-------+-------+---------+------------+\n",
      "only showing top 0 rows\n",
      "\n"
     ]
    }
   ],
   "source": [
    "#create a list containing columns which are not contributing to the rain prediction \n",
    "drop_list = ['Date']\n",
    "# renew dataframe by select columns not in the drop_list\n",
    "df = df.select([column for column in df.columns if column not in drop_list])\n",
    "# to check whether makes it or not\n",
    "df.show(0,truncate=False)"
   ]
  },
  {
   "cell_type": "code",
   "execution_count": null,
   "metadata": {
    "id": "AjJqqWTL7Wdj"
   },
   "outputs": [],
   "source": []
  },
  {
   "cell_type": "markdown",
   "metadata": {
    "id": "JX2NXUKQ7jrv"
   },
   "source": [
    "# Perform Visualization"
   ]
  },
  {
   "cell_type": "markdown",
   "metadata": {
    "id": "AG1dNUIPmJ7_"
   },
   "source": [
    "## Pie chart"
   ]
  },
  {
   "cell_type": "code",
   "execution_count": null,
   "metadata": {
    "id": "PmqYeH8M7kxi"
   },
   "outputs": [],
   "source": [
    "import pandas as pd\n",
    "RainTomorrow = list(df.select('RainTomorrow').rdd.flatMap(lambda x: x).collect())\n"
   ]
  },
  {
   "cell_type": "code",
   "execution_count": null,
   "metadata": {
    "id": "tXlXzo34tHBd"
   },
   "outputs": [],
   "source": [
    "from collections import Counter\n",
    "import matplotlib.pyplot as plt"
   ]
  },
  {
   "cell_type": "markdown",
   "metadata": {
    "id": "vwx_sWNkvMxb"
   },
   "source": [
    "The Data is Skewed toward 'No' as 78% data is of the day when it did not rain tomorrow\n"
   ]
  },
  {
   "cell_type": "code",
   "execution_count": null,
   "metadata": {
    "colab": {
     "base_uri": "https://localhost:8080/",
     "height": 265
    },
    "id": "IYvE0r2Csu29",
    "outputId": "eb4f9085-c28f-4d17-9fcb-46c078542b2c"
   },
   "outputs": [
    {
     "name": "stdout",
     "output_type": "stream",
     "text": [
      "Counter({'No': 43993, 'Yes': 12427})\n"
     ]
    },
    {
     "data": {
      "image/png": "[encoded data removed]",
      "text/plain": [
       "<Figure size 432x288 with 1 Axes>"
      ]
     },
     "metadata": {},
     "output_type": "display_data"
    }
   ],
   "source": [
    "\n",
    "status_d=Counter(RainTomorrow)\n",
    "print(status_d)\n",
    "\n",
    "key_list = list(status_d.keys())\n",
    "val_list = list(status_d.values())\n",
    "\n",
    "fig1, ax1 = plt.subplots()\n",
    "ax1.pie(val_list, labels=key_list, autopct='%1.1f%%',\n",
    "        shadow=True, startangle=90)\n",
    "ax1.axis('equal')  # Equal aspect ratio ensures that pie is drawn as a circle.\n",
    "\n",
    "plt.show()"
   ]
  },
  {
   "cell_type": "code",
   "execution_count": null,
   "metadata": {
    "id": "kbgV-i3-th3E"
   },
   "outputs": [],
   "source": []
  },
  {
   "cell_type": "markdown",
   "metadata": {
    "id": "mR9Zx9XQtotF"
   },
   "source": [
    "## Barplot"
   ]
  },
  {
   "cell_type": "code",
   "execution_count": null,
   "metadata": {
    "id": "FlHxmT7I7lvA"
   },
   "outputs": [],
   "source": [
    "WindDir9am = list(df.select('WindDir9am').rdd.flatMap(lambda x: x).collect())"
   ]
  },
  {
   "cell_type": "markdown",
   "metadata": {
    "id": "zjos0zG_vQH4"
   },
   "source": [
    "WE can see that Most wind blows at the North Direction\n"
   ]
  },
  {
   "cell_type": "code",
   "execution_count": null,
   "metadata": {
    "colab": {
     "base_uri": "https://localhost:8080/",
     "height": 465
    },
    "id": "e4Y8phVqttDz",
    "outputId": "bf4021f8-baaf-43be-b26b-a89e45efa58b"
   },
   "outputs": [
    {
     "name": "stdout",
     "output_type": "stream",
     "text": [
      "Counter({'N': 4967, 'E': 4456, 'ENE': 3932, 'SSE': 3893, 'SE': 3880, 'W': 3707, 'S': 3421, 'ESE': 3400, 'NE': 3390, 'SW': 3356, 'NNE': 3267, 'WSW': 3037, 'NNW': 3016, 'SSW': 2926, 'WNW': 2918, 'NW': 2854})\n"
     ]
    },
    {
     "data": {
      "image/png": "[encoded data removed]",
      "text/plain": [
       "<Figure size 720x504 with 1 Axes>"
      ]
     },
     "metadata": {
      "needs_background": "light"
     },
     "output_type": "display_data"
    }
   ],
   "source": [
    "\n",
    "status_d=Counter(WindDir9am)\n",
    "print(status_d)\n",
    "\n",
    "key_list = list(status_d.keys())\n",
    "val_list = list(status_d.values())\n",
    " \n",
    "# Figure Size\n",
    "fig = plt.figure(figsize =(10, 7))\n",
    " \n",
    "# Horizontal Bar Plot\n",
    "plt.bar(key_list[0:10], val_list[0:10])\n",
    " \n",
    "# Show Plot\n",
    "plt.show()"
   ]
  },
  {
   "cell_type": "code",
   "execution_count": null,
   "metadata": {
    "id": "LieC4hUluuub"
   },
   "outputs": [],
   "source": []
  },
  {
   "cell_type": "markdown",
   "metadata": {
    "id": "WP0FHWEZvjN7"
   },
   "source": [
    "Most of the time the wind is stable between 35-40."
   ]
  },
  {
   "cell_type": "code",
   "execution_count": null,
   "metadata": {
    "colab": {
     "base_uri": "https://localhost:8080/",
     "height": 465
    },
    "id": "w_5tWdvh7lr3",
    "outputId": "a31988c3-b0df-436e-e2ce-e13a6c38d1e9"
   },
   "outputs": [
    {
     "name": "stdout",
     "output_type": "stream",
     "text": [
      "Counter({'35': 3965, '39': 3884, '37': 3727, '31': 3582, '33': 3580, '41': 3344, '30': 2861, '43': 2653, '28': 2534, '48': 2324, '44': 2270, '46': 2139, '50': 2090, '26': 1816, '52': 1786, '54': 1494, '24': 1437, '56': 1200, '57': 1043, '22': 1018, '59': 888, '20': 839, '61': 767, '63': 624, '19': 537, '65': 478, '17': 406, '69': 386, '72': 361, '70': 360, '67': 349, '74': 235, '76': 230, '15': 200, '80': 157, '81': 121, '78': 120, '83': 95, '13': 87, '85': 73, '87': 62, '91': 46, '93': 40, '89': 39, '94': 35, '98': 28, '96': 27, '100': 17, '102': 12, '11': 12, '104': 11, '106': 10, '107': 6, '115': 4, '109': 3, '117': 2, '113': 2, '122': 1, '9': 1, '124': 1, '111': 1})\n"
     ]
    },
    {
     "data": {
      "image/png": "[encoded data removed]",
      "text/plain": [
       "<Figure size 720x504 with 1 Axes>"
      ]
     },
     "metadata": {
      "needs_background": "light"
     },
     "output_type": "display_data"
    }
   ],
   "source": [
    "WindGustSpeed = list(df.select('WindGustSpeed').rdd.flatMap(lambda x: x).collect())\n",
    "status_d=Counter(WindGustSpeed)\n",
    "print(status_d)\n",
    "\n",
    "key_list = list(status_d.keys())\n",
    "val_list = list(status_d.values())\n",
    " \n",
    "# Figure Size\n",
    "fig = plt.figure(figsize =(10, 7))\n",
    " \n",
    "# Horizontal Bar Plot\n",
    "plt.bar(key_list[0:10], val_list[0:10])\n",
    " \n",
    "# Show Plot\n",
    "plt.show()\n"
   ]
  },
  {
   "cell_type": "code",
   "execution_count": null,
   "metadata": {
    "id": "YDqL862dv64D"
   },
   "outputs": [],
   "source": []
  },
  {
   "cell_type": "markdown",
   "metadata": {
    "id": "FRcpcwI9v9VD"
   },
   "source": [
    "From Below chart it is hard to find out insight but we can see that most of the days at different location there is no rain. "
   ]
  },
  {
   "cell_type": "code",
   "execution_count": null,
   "metadata": {
    "colab": {
     "base_uri": "https://localhost:8080/",
     "height": 290
    },
    "id": "5lborvSIuP7q",
    "outputId": "7b716df6-a3e5-4fde-df3c-b2c8a690e199"
   },
   "outputs": [
    {
     "name": "stdout",
     "output_type": "stream",
     "text": [
      "Counter({'0': 36709, '0.2': 3009, '0.4': 1593, '0.6': 1087, '0.8': 834, '1': 695, '1.2': 609, '1.4': 556, '1.6': 480, '1.8': 440, '2': 436, '2.2': 404, '2.4': 351, '2.6': 349, '2.8': 296, '3': 284, '3.2': 277, '3.8': 260, '3.4': 248, '3.6': 232, '4': 218, '4.2': 203, '4.4': 191, '5': 187, '4.6': 172, '4.8': 169, '5.2': 165, '6': 144, '5.8': 140, '5.4': 138, '5.6': 129, '6.2': 129, '7': 119, '6.6': 116, '7.8': 109, '7.2': 102, '6.8': 100, '6.4': 99, '8': 99, '7.4': 98, '8.6': 95, '7.6': 94, '8.2': 92, '8.4': 90, '8.8': 89, '9.8': 86, '9': 84, '9.6': 82, '10.2': 77, '9.2': 76, '9.4': 76, '11.2': 73, '11.4': 67, '10.4': 67, '10': 64, '13.2': 64, '12': 62, '10.8': 62, '11.8': 56, '11': 54, '13.4': 54, '11.6': 53, '14.4': 50, '12.8': 50, '12.4': 50, '10.6': 48, '12.2': 48, '13.6': 48, '14.6': 44, '13.8': 42, '14.8': 42, '15.4': 40, '17.4': 39, '15.2': 39, '17.8': 38, '16.8': 37, '14.2': 37, '12.6': 37, '16.2': 36, '15.8': 35, '16': 35, '13': 34, '15': 34, '17.6': 33, '16.6': 32, '16.4': 31, '18': 30, '14': 30, '21': 30, '21.4': 30, '20': 29, '15.6': 27, '17': 26, '18.2': 26, '18.8': 26, '19.4': 26, '17.2': 25, '19.6': 24, '22.2': 24, '19': 21, '20.6': 21, '22.8': 21, '22.4': 20, '20.8': 20, '21.2': 20, '27.2': 20, '25.6': 19, '19.2': 19, '19.8': 19, '21.8': 19, '23.8': 18, '18.4': 18, '22.6': 18, '23.4': 18, '20.4': 17, '25.8': 17, '24.8': 16, '23.6': 16, '20.2': 15, '24': 15, '25.4': 15, '21.6': 15, '29.2': 15, '22': 15, '31.8': 15, '29.6': 15, '23.2': 15, '27.4': 14, '25': 14, '24.2': 14, '24.4': 13, '27.6': 13, '26.8': 13, '26.2': 13, '28': 13, '31.2': 13, '0.1': 13, '25.2': 12, '18.6': 12, '26': 11, '23': 11, '30.6': 11, '26.4': 11, '40.6': 11, '28.2': 11, '0.3': 11, '36': 10, '38.6': 10, '34.2': 10, '36.8': 10, '29': 10, '33': 10, '24.6': 10, '32.2': 10, '32.6': 9, '27.8': 9, '29.8': 9, '34.4': 9, '31.6': 9, '26.6': 9, '29.4': 9, '27': 9, '35.2': 9, '36.2': 9, '30.2': 9, '37.2': 8, '40': 8, '31.4': 8, '34': 8, '28.8': 8, '38.8': 7, '30': 7, '36.6': 7, '40.4': 7, '28.6': 7, '35.4': 7, '42.6': 6, '34.8': 6, '43.8': 6, '44.6': 6, '41': 6, '28.4': 6, '39.6': 6, '38.2': 6, '32.4': 6, '33.4': 5, '30.8': 5, '45.8': 5, '39.4': 5, '50': 5, '53.4': 5, '32': 5, '31': 5, '42.4': 5, '32.8': 5, '40.8': 5, '33.8': 5, '41.8': 5, '54': 5, '43.2': 5, '36.4': 5, '33.2': 5, '48.4': 5, '35': 5, '34.6': 5, '35.8': 5, '38': 4, '55.8': 4, '45.2': 4, '30.4': 4, '44.4': 4, '48': 4, '56.8': 4, '51.4': 4, '40.2': 4, '50.6': 4, '39': 4, '37': 4, '38.4': 4, '37.8': 4, '43.4': 4, '47.4': 4, '37.4': 4, '41.6': 4, '46.6': 4, '35.6': 4, '53': 4, '46.2': 4, '57.8': 4, '62.8': 4, '39.2': 4, '52.6': 3, '61.2': 3, '52.4': 3, '51.8': 3, '51.2': 3, '45.6': 3, '54.6': 3, '44.8': 3, '57.6': 3, '48.8': 3, '56.2': 3, '61': 3, '42': 3, '45': 3, '0.7': 3, '39.8': 3, '46.8': 3, '33.6': 3, '49.8': 3, '58.6': 3, '48.6': 3, '49.4': 3, '2.5': 3, '0.9': 3, '47.2': 3, '59': 2, '42.8': 2, '56.6': 2, '59.4': 2, '50.2': 2, '55': 2, '59.6': 2, '51': 2, '61.4': 2, '57': 2, '54.4': 2, '50.4': 2, '41.4': 2, '67.8': 2, '54.2': 2, '53.8': 2, '50.8': 2, '75.8': 2, '82.2': 2, '49.2': 2, '49': 2, '41.2': 2, '121.4': 2, '57.4': 2, '58.4': 2, '91.6': 2, '56': 2, '54.8': 2, '62': 2, '71.8': 2, '88.6': 2, '46.4': 2, '60.4': 2, '53.2': 2, '78.4': 2, '45.4': 2, '1.5': 2, '6.1': 2, '43.6': 2, '61.8': 2, '44': 1, '128': 1, '63.8': 1, '5.5': 1, '62.4': 1, '112': 1, '11.7': 1, '47.6': 1, '113': 1, '76.8': 1, '43': 1, '29.9': 1, '67': 1, '94.4': 1, '68.4': 1, '52.8': 1, '85': 1, '53.6': 1, '59.2': 1, '67.6': 1, '59.8': 1, '44.2': 1, '55.4': 1, '58': 1, '60': 1, '63': 1, '71.2': 1, '48.2': 1, '84': 1, '52.2': 1, '83': 1, '77.2': 1, '79.4': 1, '66.2': 1, '89': 1, '60.6': 1, '78': 1, '93.6': 1, '80.4': 1, '60.2': 1, '68.8': 1, '168.4': 1, '145': 1, '65.2': 1, '89.2': 1, '81.8': 1, '182.6': 1, '88.2': 1, '110.6': 1, '98': 1, '83.2': 1, '90.6': 1, '68.2': 1, '47': 1, '140.2': 1, '102.2': 1, '63.4': 1, '69.2': 1, '86.4': 1, '56.4': 1, '82.6': 1, '115.8': 1, '55.6': 1, '79.2': 1, '81.6': 1, '183': 1, '83.8': 1, '109.6': 1, '128.2': 1, '206.2': 1, '136.6': 1, '77.6': 1, '95.2': 1, '46': 1, '52': 1, '11.9': 1, '9.5': 1, '2.3': 1, '1.7': 1, '8.5': 1, '22.9': 1, '10.5': 1, '10.1': 1, '7.1': 1, '0.5': 1, '1.1': 1, '34.3': 1, '4.5': 1, '6.9': 1, '76.6': 1, '74.8': 1, '114.4': 1, '58.8': 1, '61.6': 1, '81': 1, '95.8': 1, '90.4': 1, '62.2': 1, '91.4': 1, '55.2': 1, '64.8': 1, '37.6': 1, '132.6': 1, '91': 1, '96.8': 1, '80.6': 1, '58.2': 1, '64.2': 1, '74.6': 1, '106.4': 1, '104.8': 1, '129.4': 1, '122.8': 1, '70.8': 1})\n"
     ]
    },
    {
     "data": {
      "image/png": "[encoded data removed]",
      "text/plain": [
       "<Figure size 432x288 with 1 Axes>"
      ]
     },
     "metadata": {},
     "output_type": "display_data"
    }
   ],
   "source": [
    "Rainfall =list(df.select('Rainfall').rdd.flatMap(lambda x: x).collect())\n",
    "status_d=Counter(Rainfall)\n",
    "print(status_d)\n",
    "\n",
    "key_list = list(status_d.keys())\n",
    "val_list = list(status_d.values())\n",
    "\n",
    "fig1, ax1 = plt.subplots()\n",
    "ax1.pie(val_list, labels=key_list, autopct='%1.1f%%',\n",
    "        shadow=True, startangle=90)\n",
    "ax1.axis('equal')  # Equal aspect ratio ensures that pie is drawn as a circle.\n",
    "\n",
    "plt.show()"
   ]
  },
  {
   "cell_type": "markdown",
   "metadata": {
    "id": "dNpQ-rSEw5Ua"
   },
   "source": [
    "Humidity in the morining highest to 71."
   ]
  },
  {
   "cell_type": "code",
   "execution_count": null,
   "metadata": {
    "colab": {
     "base_uri": "https://localhost:8080/",
     "height": 357
    },
    "id": "Z3aILKZwuTsy",
    "outputId": "e120b408-ffb6-476b-87f0-808faf043a1e"
   },
   "outputs": [
    {
     "name": "stdout",
     "output_type": "stream",
     "text": [
      "Counter({'68': 1314, '67': 1300, '69': 1288, '65': 1286, '64': 1277, '62': 1261, '66': 1259, '71': 1247, '61': 1214, '70': 1213, '63': 1195, '72': 1165, '73': 1144, '74': 1138, '60': 1134, '58': 1130, '75': 1127, '59': 1122, '76': 1107, '57': 1072, '78': 1042, '56': 1016, '77': 1010, '79': 981, '55': 980, '80': 957, '82': 912, '54': 904, '81': 891, '52': 847, '53': 843, '83': 826, '84': 794, '85': 736, '87': 735, '51': 729, '86': 725, '50': 724, '89': 676, '48': 668, '88': 658, '91': 634, '93': 612, '49': 610, '99': 609, '90': 600, '92': 588, '47': 578, '94': 542, '96': 531, '46': 497, '95': 495, '100': 491, '45': 479, '97': 465, '44': 444, '43': 406, '42': 395, '41': 379, '40': 335, '38': 334, '39': 333, '37': 267, '36': 263, '34': 238, '35': 232, '33': 215, '98': 193, '30': 191, '32': 191, '31': 187, '29': 184, '28': 171, '27': 158, '25': 152, '24': 151, '26': 144, '23': 144, '22': 128, '21': 124, '20': 115, '16': 115, '17': 101, '18': 94, '19': 92, '14': 81, '15': 76, '11': 69, '12': 62, '13': 61, '10': 41, '8': 40, '9': 35, '7': 28, '6': 23, '5': 19, '4': 14, '3': 7, '2': 6, '1': 3, '0': 1})\n"
     ]
    },
    {
     "data": {
      "image/png": "[encoded data removed]",
      "text/plain": [
       "<Figure size 720x360 with 1 Axes>"
      ]
     },
     "metadata": {
      "needs_background": "light"
     },
     "output_type": "display_data"
    }
   ],
   "source": [
    "Humidity9am = list(df.select('Humidity9am').rdd.flatMap(lambda x: x).collect())\n",
    "\n",
    "status_d=Counter(Humidity9am)\n",
    "print(status_d)\n",
    "\n",
    "key_list = list(status_d.keys())\n",
    "val_list = list(status_d.values())\n",
    " \n",
    "fig = plt.figure(figsize = (10, 5))\n",
    " \n",
    "# creating the bar plot\n",
    "plt.bar(key_list[0:20], val_list[0:20], color ='green',\n",
    "        width = 0.4)\n",
    " \n",
    "plt.show()"
   ]
  },
  {
   "cell_type": "markdown",
   "metadata": {
    "id": "Y1Rv9k2Gx3t0"
   },
   "source": [
    "Pressure in the Atmosphere keeps on fluctuating as a result is it difficult to prdict the rainfall only based on air pressure."
   ]
  },
  {
   "cell_type": "code",
   "execution_count": null,
   "metadata": {
    "colab": {
     "base_uri": "https://localhost:8080/",
     "height": 360
    },
    "id": "yrUEv3ZEuTnr",
    "outputId": "b0ae9648-b279-4fe4-ac5a-080a4d26c48e"
   },
   "outputs": [
    {
     "name": "stdout",
     "output_type": "stream",
     "text": [
      "Counter({'1016.4': 382, '1015.9': 361, '1017.7': 350, '1018.2': 349, '1018': 347, '1014.6': 345, '1016.7': 345, '1015.7': 341, '1017.6': 338, '1017.1': 338, '1016.3': 337, '1017.3': 337, '1017.5': 336, '1015.2': 335, '1015.6': 335, '1017.2': 334, '1016.5': 334, '1017.8': 331, '1016.9': 330, '1016.2': 330, '1019.2': 330, '1017.9': 330, '1015.8': 329, '1018.7': 329, '1017.4': 329, '1015.5': 328, '1019.4': 327, '1015.3': 326, '1014.9': 323, '1019.3': 322, '1016.8': 321, '1018.6': 321, '1014.5': 319, '1013.7': 319, '1016': 318, '1019.9': 317, '1015.4': 317, '1016.6': 315, '1014.8': 314, '1017': 314, '1018.4': 313, '1019.7': 313, '1013.1': 312, '1015.1': 312, '1013.8': 311, '1016.1': 311, '1018.3': 311, '1014.1': 309, '1019.6': 309, '1018.5': 307, '1014.2': 306, '1019': 306, '1013.3': 304, '1019.5': 304, '1019.1': 303, '1018.9': 302, '1013.6': 300, '1013.2': 300, '1018.8': 300, '1020.5': 300, '1012.9': 298, '1015': 298, '1014.7': 297, '1014.4': 296, '1019.8': 296, '1013.9': 294, '1012.8': 292, '1020': 292, '1020.4': 291, '1013': 291, '1018.1': 290, '1012.4': 289, '1013.4': 289, '1020.6': 287, '1012.3': 284, '1012.5': 279, '1012.7': 278, '1014': 278, '1020.7': 277, '1020.3': 276, '1020.8': 274, '1021.4': 273, '1021.7': 273, '1021.1': 273, '1022': 273, '1021.6': 272, '1021.8': 271, '1020.2': 269, '1013.5': 268, '1021.5': 268, '1021.3': 267, '1012.2': 266, '1012.6': 262, '1020.1': 262, '1011.9': 261, '1014.3': 260, '1020.9': 256, '1021.2': 255, '1021': 254, '1012': 253, '1012.1': 252, '1022.2': 250, '1011.4': 249, '1023': 248, '1022.6': 248, '1011.8': 244, '1022.1': 243, '1011.7': 241, '1021.9': 240, '1022.4': 240, '1011.3': 235, '1022.9': 235, '1022.7': 233, '1023.1': 231, '1023.2': 231, '1011.2': 228, '1022.8': 225, '1011.1': 222, '1011.6': 217, '1011.5': 217, '1010.2': 216, '1022.3': 215, '1022.5': 214, '1023.3': 214, '1009.9': 213, '1010.9': 210, '1023.4': 210, '1023.8': 209, '1024.4': 209, '1024.2': 207, '1010.8': 206, '1023.9': 206, '1011': 204, '1010.7': 201, '1023.7': 201, '1023.5': 201, '1010.4': 200, '1010.5': 200, '1010.1': 198, '1010': 194, '1024.1': 192, '1009.6': 191, '1024.9': 190, '1023.6': 189, '1024.3': 189, '1009.8': 188, '1024': 188, '1009.7': 182, '1024.6': 182, '1010.3': 181, '1008.9': 179, '1009.5': 175, '1009.4': 174, '1025': 173, '1009.3': 171, '1009.1': 171, '1010.6': 171, '1024.7': 170, '1024.5': 169, '1025.3': 164, '1025.7': 163, '1009.2': 161, '1024.8': 161, '1009': 158, '1025.5': 158, '1025.1': 158, '1025.4': 156, '1025.8': 156, '1008.1': 153, '1008': 151, '1025.6': 150, '1026': 149, '1025.2': 149, '1008.7': 148, '1008.6': 147, '1026.6': 143, '1008.8': 143, '1025.9': 142, '1026.1': 138, '1026.8': 138, '1008.3': 136, '1008.2': 136, '1026.3': 135, '1026.5': 132, '1008.5': 132, '1007.8': 131, '1007.4': 131, '1007.6': 129, '1026.9': 128, '1027': 126, '1008.4': 125, '1026.2': 123, '1027.1': 123, '1026.4': 120, '1007.9': 118, '1027.7': 117, '1027.3': 117, '1006.7': 117, '1027.4': 116, '1007.3': 116, '1026.7': 116, '1007.5': 115, '1007.7': 111, '1027.6': 109, '1027.2': 105, '1007': 102, '1028.4': 101, '1006.9': 101, '1028.2': 101, '1007.2': 100, '1006.2': 98, '1027.5': 96, '1006.6': 95, '1005.8': 93, '1028.8': 91, '1027.8': 90, '1028.5': 90, '1028.1': 89, '1006.4': 88, '1028.9': 87, '1029': 86, '1006.3': 84, '1006.1': 83, '1028': 83, '1007.1': 83, '1028.3': 82, '1006.8': 82, '1006.5': 81, '1005.9': 76, '1027.9': 76, '1030.3': 76, '1005.6': 73, '1029.1': 71, '1029.6': 70, '1029.8': 69, '1028.7': 69, '1006': 69, '1028.6': 68, '1029.5': 68, '1030.2': 67, '1005.7': 67, '1029.7': 65, '1029.4': 65, '1005.1': 65, '1005.5': 65, '1031.1': 64, '1005.3': 63, '1029.9': 61, '1029.3': 59, '1005.4': 58, '1005.2': 58, '1029.2': 57, '1030.6': 55, '1005': 53, '1004.4': 53, '1030': 52, '1031.2': 52, '1030.1': 52, '1003.4': 51, '1030.7': 50, '1030.5': 49, '1004.5': 49, '1004.8': 48, '1030.4': 47, '1030.9': 46, '1004.7': 46, '1003.8': 46, '1030.8': 45, '1004.3': 45, '1003.6': 45, '1032.6': 44, '1004.9': 44, '1003.9': 42, '1032': 42, '1004': 42, '1031.6': 41, '1031': 40, '1032.7': 39, '1003.5': 39, '1001.9': 38, '1003.3': 38, '1031.4': 38, '1003.7': 37, '1003.1': 36, '1004.6': 36, '1032.9': 36, '1003.2': 35, '1004.2': 35, '1031.9': 34, '1031.8': 34, '1031.7': 34, '1032.2': 33, '1002.8': 32, '1032.8': 32, '1033.4': 32, '1003': 31, '1033.1': 30, '1002.9': 29, '1032.1': 29, '1001.7': 29, '1032.3': 28, '1031.3': 28, '1032.5': 28, '1033.5': 27, '1002.7': 27, '1031.5': 26, '1004.1': 26, '1002': 26, '1033.2': 26, '1002.5': 25, '1002.4': 24, '1033': 23, '1033.7': 23, '1002.3': 23, '1034': 22, '1002.2': 22, '1033.3': 22, '1001.6': 22, '1034.7': 21, '1032.4': 21, '1001.3': 21, '1034.3': 20, '1001.8': 20, '1000.8': 20, '1035': 20, '1034.6': 20, '1033.9': 19, '1001.5': 18, '1000.5': 18, '1001.1': 18, '1033.8': 17, '1001': 17, '998.8': 17, '1034.1': 16, '1000.6': 16, '1000.9': 16, '1033.6': 16, '999.9': 16, '1002.1': 16, '1034.5': 16, '999.4': 15, '1035.5': 15, '1000.2': 15, '1001.4': 14, '1035.7': 14, '1002.6': 14, '1000.3': 13, '998.6': 13, '1035.2': 13, '1001.2': 13, '1000.7': 13, '999.8': 12, '999.3': 12, '1035.3': 12, '1036.2': 12, '998.9': 12, '1036.5': 12, '1035.6': 12, '997.8': 12, '999.7': 11, '1034.4': 11, '1034.2': 11, '1035.1': 11, '1034.8': 11, '1036.4': 11, '998.3': 10, '999.2': 10, '996.7': 10, '1035.4': 10, '1034.9': 10, '998.1': 10, '1036.1': 10, '998.7': 10, '1000.1': 10, '998': 10, '999': 9, '997': 9, '1000': 9, '1036.6': 9, '996.9': 9, '1037.2': 9, '999.5': 8, '996.5': 8, '999.1': 8, '1036.8': 8, '999.6': 8, '1035.9': 8, '1000.4': 8, '997.2': 8, '1036.7': 8, '997.6': 7, '1035.8': 7, '1037.1': 7, '998.5': 7, '997.5': 7, '1037.4': 7, '997.9': 7, '997.1': 7, '995.9': 7, '994.4': 7, '997.4': 6, '994.9': 6, '1038.8': 6, '996.3': 6, '1037.5': 6, '997.3': 6, '992.1': 6, '1036.9': 5, '1036.3': 5, '1036': 5, '996.8': 5, '995.1': 5, '995.5': 5, '993.6': 5, '995.4': 5, '995.6': 5, '998.4': 5, '993.8': 5, '996.4': 5, '996.6': 4, '1037': 4, '995.2': 4, '1037.7': 4, '995.3': 4, '996': 4, '1038': 4, '994': 4, '993.4': 4, '997.7': 4, '994.6': 3, '991.5': 3, '1038.2': 3, '1039.3': 3, '996.1': 3, '993': 3, '992.7': 3, '994.5': 3, '989.7': 3, '991.7': 3, '1037.9': 3, '992.9': 3, '992.4': 3, '1037.3': 3, '989.5': 3, '991.3': 3, '1038.7': 3, '996.2': 3, '998.2': 3, '988.5': 3, '988.8': 3, '1039': 2, '1038.1': 2, '1038.3': 2, '987.4': 2, '993.9': 2, '1039.2': 2, '995.7': 2, '988.9': 2, '991.8': 2, '993.5': 2, '1038.6': 2, '990.3': 2, '1037.8': 2, '993.3': 2, '989.6': 2, '991.6': 2, '988.3': 2, '984.6': 2, '987.2': 2, '982.9': 2, '993.1': 2, '990.9': 2, '988.1': 2, '993.2': 2, '980.5': 1, '1039.6': 1, '1039.5': 1, '1037.6': 1, '1040.2': 1, '1039.1': 1, '994.1': 1, '994.8': 1, '990.2': 1, '995.8': 1, '992.8': 1, '995': 1, '992': 1, '988': 1, '992.2': 1, '1040.3': 1, '987': 1, '1040': 1, '1040.4': 1, '993.7': 1, '991.9': 1, '989.3': 1, '994.3': 1, '986.6': 1, '990.5': 1, '988.2': 1, '989.9': 1, '982.2': 1, '984.4': 1, '983.9': 1})\n"
     ]
    },
    {
     "data": {
      "image/png": "[encoded data removed]",
      "text/plain": [
       "<Figure size 720x360 with 1 Axes>"
      ]
     },
     "metadata": {
      "needs_background": "light"
     },
     "output_type": "display_data"
    }
   ],
   "source": [
    "Pressure9am = list(df.select('Pressure9am').rdd.flatMap(lambda x: x).collect())\n",
    "status_d=Counter(Pressure9am)\n",
    "print(status_d)\n",
    "\n",
    "key_list = list(status_d.keys())\n",
    "val_list = list(status_d.values())\n",
    " \n",
    "fig = plt.figure(figsize = (10, 5))\n",
    " \n",
    "# creating the bar plot\n",
    "plt.bar(key_list[0:18], val_list[0:18], color ='yellow',\n",
    "        width = 0.4)\n",
    " \n",
    "plt.show()"
   ]
  },
  {
   "cell_type": "markdown",
   "metadata": {
    "id": "ofeEdmhuwsVC"
   },
   "source": [
    "We can see that the data was evenly collected fom different location."
   ]
  },
  {
   "cell_type": "code",
   "execution_count": null,
   "metadata": {
    "colab": {
     "base_uri": "https://localhost:8080/",
     "height": 365
    },
    "id": "pZbjtJDAuTkr",
    "outputId": "f1d97f37-50b3-4c0d-a747-9d69cdc33b94"
   },
   "outputs": [
    {
     "name": "stdout",
     "output_type": "stream",
     "text": [
      "Counter({'Darwin': 3062, 'Perth': 3025, 'Brisbane': 2953, 'MelbourneAirport': 2929, 'PerthAirport': 2913, 'SydneyAirport': 2870, 'Watsonia': 2730, 'Mildura': 2594, 'MountGambier': 2465, 'NorfolkIsland': 2464, 'Cairns': 2444, 'Townsville': 2419, 'WaggaWagga': 2416, 'AliceSprings': 2223, 'Nuriootpa': 2008, 'Hobart': 1939, 'Moree': 1913, 'Melbourne': 1898, 'Portland': 1863, 'Woomera': 1734, 'Sydney': 1690, 'Sale': 1678, 'CoffsHarbour': 1380, 'Williamtown': 1198, 'Canberra': 1078, 'Cobar': 534})\n"
     ]
    },
    {
     "data": {
      "text/plain": [
       "(-1.1002613400484633,\n",
       " 1.1002603440167302,\n",
       " -1.1012624246260294,\n",
       " 1.1000601154583824)"
      ]
     },
     "execution_count": 87,
     "metadata": {},
     "output_type": "execute_result"
    },
    {
     "data": {
      "image/png": "[encoded data removed]",
      "text/plain": [
       "<Figure size 432x288 with 1 Axes>"
      ]
     },
     "metadata": {},
     "output_type": "display_data"
    }
   ],
   "source": [
    "Location = list(df.select('Location').rdd.flatMap(lambda x: x).collect())\n",
    "status_d=Counter(Location)\n",
    "print(status_d)\n",
    "\n",
    "key_list = list(status_d.keys())\n",
    "val_list = list(status_d.values())\n",
    "\n",
    "fig1, ax1 = plt.subplots()\n",
    "ax1.pie(val_list, labels=key_list, autopct='%1.1f%%',\n",
    "        shadow=True, startangle=90)\n",
    "ax1.axis('equal')  # Equal aspect ratio ensures that pie is drawn as a circle.\n"
   ]
  },
  {
   "cell_type": "code",
   "execution_count": null,
   "metadata": {
    "id": "tIhcG0WnuVGu"
   },
   "outputs": [],
   "source": []
  },
  {
   "cell_type": "markdown",
   "metadata": {
    "id": "cQCgeni-7mN2"
   },
   "source": [
    "# Model Building"
   ]
  },
  {
   "cell_type": "code",
   "execution_count": null,
   "metadata": {
    "id": "IRwzNvCx8Hlg"
   },
   "outputs": [],
   "source": [
    "from pyspark.sql.types import DoubleType\n",
    "from pyspark.ml.feature import StringIndexer\n",
    "from pyspark.ml.feature import VectorAssembler\n",
    "\n",
    "numeric_col = ['MinTemp','MaxTemp','Rainfall','WindGustSpeed','WindSpeed9am','WindSpeed3pm','Humidity9am','Humidity3pm','Pressure9am','Humidity3pm','Humidity9am','Pressure3pm']\n",
    "\n",
    "for i in numeric_col:\n",
    "    df = df.withColumn(i, df[i].cast(DoubleType()))"
   ]
  },
  {
   "cell_type": "markdown",
   "metadata": {
    "id": "n-Xu95kn9X9c"
   },
   "source": [
    "### One Hot Encoding and labelling"
   ]
  },
  {
   "cell_type": "code",
   "execution_count": null,
   "metadata": {
    "id": "o6BzXP717qj6"
   },
   "outputs": [],
   "source": [
    "import pyspark\n",
    "from pyspark.ml import Pipeline\n",
    "from distutils.version import LooseVersion\n",
    " \n",
    "categoricalColumns = [\"WindGustDir\",\"WindDir9am\",\"WindDir3pm\",\"RainToday\",\"RainTomorrow\"]\n",
    "stages = [] # stages in Pipeline\n",
    "for categoricalCol in categoricalColumns:\n",
    "    # Category Indexing with StringIndexer\n",
    "    stringIndexer = StringIndexer(inputCol=categoricalCol, outputCol=categoricalCol + \"_label\")\n",
    "    # Use OneHotEncoder to convert categorical variables into binary SparseVectors\n",
    "    if LooseVersion(pyspark.__version__) < LooseVersion(\"3.0\"):\n",
    "        from pyspark.ml.feature import OneHotEncoderEstimator\n",
    "        encoder = OneHotEncoderEstimator(inputCols=[stringIndexer.getOutputCol()], outputCols=[categoricalCol + \"classVec\"])\n",
    "    else:\n",
    "        from pyspark.ml.feature import OneHotEncoder\n",
    "        encoder = OneHotEncoder(inputCols=[stringIndexer.getOutputCol()], outputCols=[categoricalCol + \"classVec\"])\n",
    "    # Add stages.  These are not run here, but will run all at once later on.\n",
    "    stages += [stringIndexer, encoder]"
   ]
  },
  {
   "cell_type": "code",
   "execution_count": null,
   "metadata": {
    "colab": {
     "base_uri": "https://localhost:8080/"
    },
    "id": "5W2rl6FiTiXX",
    "outputId": "71067e08-767a-4ea7-9247-b8e125cb76ea"
   },
   "outputs": [
    {
     "name": "stdout",
     "output_type": "stream",
     "text": [
      "root\n",
      " |-- Location: double (nullable = true)\n",
      " |-- MinTemp: double (nullable = true)\n",
      " |-- MaxTemp: double (nullable = true)\n",
      " |-- Rainfall: double (nullable = true)\n",
      " |-- Evaporation: double (nullable = true)\n",
      " |-- Sunshine: double (nullable = true)\n",
      " |-- WindGustSpeed: double (nullable = true)\n",
      " |-- WindSpeed9am: double (nullable = true)\n",
      " |-- WindSpeed3pm: double (nullable = true)\n",
      " |-- Humidity9am: double (nullable = true)\n",
      " |-- Humidity3pm: double (nullable = true)\n",
      " |-- Pressure9am: double (nullable = true)\n",
      " |-- Pressure3pm: double (nullable = true)\n",
      " |-- Cloud9am: double (nullable = true)\n",
      " |-- Cloud3pm: double (nullable = true)\n",
      " |-- Temp9am: double (nullable = true)\n",
      " |-- Temp3pm: double (nullable = true)\n",
      " |-- WindGustDir_label: double (nullable = false)\n",
      " |-- WindDir9am_label: double (nullable = false)\n",
      " |-- WindDir3pm_label: double (nullable = false)\n",
      " |-- RainToday_label: double (nullable = false)\n",
      " |-- RainTomorrow_label: double (nullable = false)\n",
      "\n"
     ]
    }
   ],
   "source": [
    "alist = []\n",
    "Non_numeric_col = [\"WindGustDir\",\"WindDir9am\",\"WindDir3pm\",\"RainToday\",\"RainTomorrow\"]\n",
    "for c in df.columns :\n",
    "    if c not in Non_numeric_col: \n",
    "        #transforming numerical data into double type\n",
    "        df = df.withColumn(c,df[c].cast(DoubleType()))\n",
    "    else:\n",
    "        #transforming non-numerical data into number by using StringIndexer\n",
    "        alist.append(StringIndexer(inputCol = c, outputCol = c + \"_label\"))\n",
    "        \n",
    "# Fit the pipeline to training documents.       \n",
    "pipeline = Pipeline(stages=alist)\n",
    "pipelineFit = pipeline.fit(df)\n",
    "dataset = pipelineFit.transform(df)\n",
    "\n",
    "#drop original columns whose indexing are done\n",
    "dataset = dataset.select([c for c in dataset.columns if c not in Non_numeric_col])\n",
    "dataset.printSchema()"
   ]
  },
  {
   "cell_type": "code",
   "execution_count": null,
   "metadata": {
    "id": "ekAvcR0LTuWl"
   },
   "outputs": [],
   "source": [
    "#Bind all feature columns\n",
    "vector_assembler = VectorAssembler(inputCols=[\"MinTemp\",\"MaxTemp\",\"Rainfall\",\"WindGustDir_label\",\"WindGustSpeed\",\\\n",
    "                                              \"WindDir9am_label\",\\\n",
    "                                              \"WindDir3pm_label\",\"WindSpeed9am\",\"WindSpeed3pm\",\"Humidity9am\",\\\n",
    "                                              \"Humidity3pm\",\\\n",
    "                                              \"Pressure9am\",\"Pressure3pm\",\n",
    "                                              \"RainToday_label\",],outputCol = \"features\")\n",
    "#Fit and Evaluate Models\n",
    "pipeline1 = Pipeline(stages= [vector_assembler])\n",
    "pipelineFit1 = pipeline1.fit(dataset)\n",
    "dataset_new = pipelineFit1.transform(dataset)\n",
    "\n",
    "#Split the dataset into training and testing (70%,30%)\n",
    "(trainingData, testData) = dataset_new.randomSplit([0.7, 0.3], seed = 100)"
   ]
  },
  {
   "cell_type": "code",
   "execution_count": null,
   "metadata": {
    "colab": {
     "base_uri": "https://localhost:8080/"
    },
    "id": "0GtkV68mT_df",
    "outputId": "a0027870-d0c0-4df4-82d6-23bd7e27e2ab"
   },
   "outputs": [
    {
     "name": "stdout",
     "output_type": "stream",
     "text": [
      "+--------+-------+-------+--------+-----------+--------+-------------+------------+------------+-----------+-----------+-----------+-----------+--------+--------+-------+-------+-----------------+----------------+----------------+---------------+------------------+--------------------+\n",
      "|Location|MinTemp|MaxTemp|Rainfall|Evaporation|Sunshine|WindGustSpeed|WindSpeed9am|WindSpeed3pm|Humidity9am|Humidity3pm|Pressure9am|Pressure3pm|Cloud9am|Cloud3pm|Temp9am|Temp3pm|WindGustDir_label|WindDir9am_label|WindDir3pm_label|RainToday_label|RainTomorrow_label|            features|\n",
      "+--------+-------+-------+--------+-----------+--------+-------------+------------+------------+-----------+-----------+-----------+-----------+--------+--------+-------+-------+-----------------+----------------+----------------+---------------+------------------+--------------------+\n",
      "|    null|   -6.7|   15.7|     0.0|        1.4|     6.9|         37.0|         2.0|        24.0|       86.0|       31.0|     1026.3|     1022.0|     4.0|     1.0|    0.5|   15.1|             13.0|             0.0|            14.0|            0.0|               0.0|[-6.7,15.7,0.0,13...|\n",
      "|    null|   -5.8|   12.0|     0.0|        1.4|     7.6|         30.0|         6.0|        11.0|       97.0|       39.0|     1023.0|     1019.9|     1.0|     1.0|   -0.5|   11.6|              3.0|            10.0|            12.0|            0.0|               0.0|[-5.8,12.0,0.0,3....|\n",
      "|    null|   -5.3|   13.1|     0.0|        2.2|     7.9|         33.0|         4.0|        20.0|       94.0|       47.0|     1029.6|     1025.6|     6.0|     6.0|    0.1|   12.2|             13.0|             0.0|            13.0|            0.0|               0.0|[-5.3,13.1,0.0,13...|\n",
      "|    null|   -4.7|    8.3|     0.0|        1.2|     2.4|         30.0|         2.0|        15.0|       76.0|       64.0|     1026.7|     1025.4|     4.0|     8.0|    1.2|    7.9|              3.0|             7.0|             2.0|            0.0|               1.0|[-4.7,8.3,0.0,3.0...|\n",
      "|    null|   -4.7|    9.3|     0.0|        3.0|     5.9|         44.0|         6.0|        30.0|       99.0|       53.0|     1024.7|     1021.1|     8.0|     1.0|   -0.2|    8.3|             15.0|             0.0|            13.0|            0.0|               0.0|[-4.7,9.3,0.0,15....|\n",
      "+--------+-------+-------+--------+-----------+--------+-------------+------------+------------+-----------+-----------+-----------+-----------+--------+--------+-------+-------+-----------------+----------------+----------------+---------------+------------------+--------------------+\n",
      "only showing top 5 rows\n",
      "\n"
     ]
    }
   ],
   "source": [
    "trainingData.show(5)"
   ]
  },
  {
   "cell_type": "code",
   "execution_count": null,
   "metadata": {
    "id": "lq03sGJvkfrI"
   },
   "outputs": [],
   "source": []
  },
  {
   "cell_type": "markdown",
   "metadata": {
    "id": "xIhPQDAZ-Ubi"
   },
   "source": [
    "# Going to build a classification model, based on the todays factors to predict tommorrow it will rain or not."
   ]
  },
  {
   "cell_type": "code",
   "execution_count": null,
   "metadata": {
    "id": "cANgnzNokedP"
   },
   "outputs": [],
   "source": []
  },
  {
   "cell_type": "code",
   "execution_count": null,
   "metadata": {
    "id": "MFvOt8ID-YPL"
   },
   "outputs": [],
   "source": [
    "from pyspark.mllib.evaluation import MulticlassMetrics\n",
    "from pyspark.mllib.evaluation import BinaryClassificationMetrics\n",
    "\n",
    "from pyspark.ml.classification import DecisionTreeClassifier\n",
    "from pyspark.ml.classification import RandomForestClassifier\n",
    "from pyspark.ml.classification import LogisticRegression\n",
    "from pyspark.ml.evaluation import MulticlassClassificationEvaluator"
   ]
  },
  {
   "cell_type": "code",
   "execution_count": null,
   "metadata": {
    "id": "eU-sBkrgUsE_"
   },
   "outputs": [],
   "source": [
    "## Setting Seed\n",
    "import random\n",
    "random.seed(1234)"
   ]
  },
  {
   "cell_type": "markdown",
   "metadata": {
    "id": "8h9ZXJsqAZ9m"
   },
   "source": [
    "### Logistic Regression"
   ]
  },
  {
   "cell_type": "code",
   "execution_count": null,
   "metadata": {
    "colab": {
     "base_uri": "https://localhost:8080/"
    },
    "id": "id1GhNPO-YMf",
    "outputId": "71869c3c-b0d9-4916-b1b3-946187736ac3"
   },
   "outputs": [
    {
     "name": "stdout",
     "output_type": "stream",
     "text": [
      "Train Accuracy is 84.84%\n"
     ]
    }
   ],
   "source": [
    "# Create an initial model using the train set.\n",
    "lr = LogisticRegression(featuresCol = 'features', labelCol = 'RainTomorrow_label',  maxIter=10)\n",
    "lrModel = lr.fit(trainingData)\n",
    "\n",
    "# Train Accuracy\n",
    "# LogicRegression.transform() is a method that uses only 'features'.\n",
    "predictions1 = lrModel.transform(trainingData)\n",
    "\n",
    "# The MulticlassificationEvaluator is used to evaluate the model.\n",
    "evaluator = MulticlassClassificationEvaluator(labelCol=\"RainTomorrow_label\",\\\n",
    "predictionCol=\"prediction\", metricName=\"accuracy\")\n",
    "\n",
    "accuracy1 = evaluator.evaluate(predictions1)\n",
    "print(\"Train Accuracy is\",'%.2f%%'%(100*accuracy1))\n"
   ]
  },
  {
   "cell_type": "code",
   "execution_count": null,
   "metadata": {
    "colab": {
     "base_uri": "https://localhost:8080/"
    },
    "id": "yGpAuRiOVdAA",
    "outputId": "4f6c84b7-5e23-4f9d-e77d-beeb98ec7c7c"
   },
   "outputs": [
    {
     "name": "stdout",
     "output_type": "stream",
     "text": [
      "Test Accuracy is 84.77%\n"
     ]
    }
   ],
   "source": [
    "# Test Accuracy\n",
    "# LogicRegression.transform() is a method that uses only 'features'.\n",
    "predictions1 = lrModel.transform(testData)\n",
    "\n",
    "# The MulticlassificationEvaluator is used to evaluate the model.\n",
    "evaluator = MulticlassClassificationEvaluator(labelCol=\"RainTomorrow_label\",\\\n",
    "predictionCol=\"prediction\", metricName=\"accuracy\")\n",
    "\n",
    "accuracy1 = evaluator.evaluate(predictions1)\n",
    "print(\"Test Accuracy is\",'%.2f%%'%(100*accuracy1))\n"
   ]
  },
  {
   "cell_type": "markdown",
   "metadata": {
    "id": "ZGsjYbIvAdKy"
   },
   "source": [
    "# Decision Tree"
   ]
  },
  {
   "cell_type": "code",
   "execution_count": null,
   "metadata": {
    "colab": {
     "base_uri": "https://localhost:8080/"
    },
    "id": "ReMtg7PuAG9X",
    "outputId": "1620b856-0fb7-4538-b139-c98dd1c54a50"
   },
   "outputs": [
    {
     "name": "stdout",
     "output_type": "stream",
     "text": [
      "Test Accuracy is 84.51%\n"
     ]
    }
   ],
   "source": [
    "# Create an initial model using the train set.\n",
    "dt = DecisionTreeClassifier(labelCol=\"RainTomorrow_label\", featuresCol=\"features\")\n",
    "model2 = dt.fit(trainingData)\n",
    "\n",
    "# Train Accuracy\n",
    "predictions2 = model2.transform(trainingData)\n",
    "# compute accuracy on the test set\n",
    "evaluator =\\\n",
    "MulticlassClassificationEvaluator(labelCol=\"RainTomorrow_label\",\\\n",
    "predictionCol=\"prediction\", metricName=\"accuracy\")\n",
    "\n",
    "accuracy2 = evaluator.evaluate(predictions2)\n",
    "print(\"Test Accuracy is\",'%.2f%%'%(100*accuracy2))"
   ]
  },
  {
   "cell_type": "code",
   "execution_count": null,
   "metadata": {
    "colab": {
     "base_uri": "https://localhost:8080/"
    },
    "id": "RYfUaJwvWCU2",
    "outputId": "e236e9e9-822e-4f02-8111-66b5ee8409be"
   },
   "outputs": [
    {
     "name": "stdout",
     "output_type": "stream",
     "text": [
      "Test Accuracy is 83.85%\n"
     ]
    }
   ],
   "source": [
    "# Test Accuracy\n",
    "predictions2 = model2.transform(testData)\n",
    "# compute accuracy on the test set\n",
    "evaluator =\\\n",
    "MulticlassClassificationEvaluator(labelCol=\"RainTomorrow_label\",\\\n",
    "predictionCol=\"prediction\", metricName=\"accuracy\")\n",
    "\n",
    "accuracy2 = evaluator.evaluate(predictions2)\n",
    "print(\"Test Accuracy is\",'%.2f%%'%(100*accuracy2))"
   ]
  },
  {
   "cell_type": "markdown",
   "metadata": {
    "id": "yLd3RgxGAjsG"
   },
   "source": [
    "# Random Forest"
   ]
  },
  {
   "cell_type": "code",
   "execution_count": null,
   "metadata": {
    "colab": {
     "base_uri": "https://localhost:8080/"
    },
    "id": "l2ExBxO5AG6o",
    "outputId": "ab55e4bc-0eaf-448d-a103-e521d04d1e18"
   },
   "outputs": [
    {
     "name": "stdout",
     "output_type": "stream",
     "text": [
      "The probability of the rain fall tomorrow is 84.31%\n"
     ]
    }
   ],
   "source": [
    "# Create an initial model using the train set.\n",
    "rf = RandomForestClassifier(labelCol=\"RainTomorrow_label\",featuresCol=\"features\", numTrees=10)\n",
    "model3 = rf.fit(trainingData)\n",
    "\n",
    "# Train Accuracy\n",
    "predictions3 = model3.transform(trainingData)\n",
    "\n",
    "# compute accuracy on the test set\n",
    "evaluator = MulticlassClassificationEvaluator(labelCol=\"RainTomorrow_label\",\\\n",
    "predictionCol=\"prediction\", metricName=\"accuracy\")\n",
    "\n",
    "accuracy3 = evaluator.evaluate(predictions3)\n",
    "print(\"The probability of the rain fall tomorrow is\",'%.2f%%'%(100*accuracy3))"
   ]
  },
  {
   "cell_type": "code",
   "execution_count": null,
   "metadata": {
    "colab": {
     "base_uri": "https://localhost:8080/"
    },
    "id": "TEG18EJ3AG1Y",
    "outputId": "70f6f120-0ed0-43e0-90e8-7642a46bc814"
   },
   "outputs": [
    {
     "name": "stdout",
     "output_type": "stream",
     "text": [
      "The probability of the rain fall tomorrow is 83.96%\n"
     ]
    }
   ],
   "source": [
    "# Test Accuracy\n",
    "predictions3 = model3.transform(testData)\n",
    "\n",
    "# compute accuracy on the test set\n",
    "evaluator =\\\n",
    "MulticlassClassificationEvaluator(labelCol=\"RainTomorrow_label\",\\\n",
    "predictionCol=\"prediction\", metricName=\"accuracy\")\n",
    "\n",
    "accuracy3 = evaluator.evaluate(predictions3)\n",
    "print(\"The probability of the rain fall tomorrow is\",'%.2f%%'%(100*accuracy3))"
   ]
  },
  {
   "cell_type": "markdown",
   "metadata": {
    "id": "oJzlO0EFWwN5"
   },
   "source": [
    "### Which models are over fitting or underfitting explain ?\n",
    "None of the model got underfitted or overfitted as we can see that the results are almost similar range for train and test partitions for all models."
   ]
  },
  {
   "cell_type": "markdown",
   "metadata": {
    "id": "VLYkU1z8XNTO"
   },
   "source": [
    "### Which is your final model and why explain?\n",
    "As all the model performed well but I will choose Random Forest model as it has advantage of ensembling on the other two models.\n",
    "\n",
    "Random Forest is less prone to over fitting than Decision Tree and more skew tolerant than Logistic model."
   ]
  },
  {
   "cell_type": "code",
   "execution_count": null,
   "metadata": {
    "id": "QjGMF0YBWvsv"
   },
   "outputs": [],
   "source": []
  },
  {
   "cell_type": "markdown",
   "metadata": {
    "id": "PEojYbgP7qzv"
   },
   "source": [
    "# Model Tuning"
   ]
  },
  {
   "cell_type": "code",
   "execution_count": null,
   "metadata": {
    "id": "TTa_YeMh7srm"
   },
   "outputs": [],
   "source": [
    "from pyspark.ml.classification import RandomForestClassifier\n",
    "from pyspark.ml.tuning import CrossValidator, ParamGridBuilder\n",
    "from pyspark.ml.evaluation import BinaryClassificationEvaluator\n",
    "\n",
    "rf = RandomForestClassifier(featuresCol = 'features', labelCol = 'RainTomorrow_label', seed= 42)\n",
    "\n",
    "# grid search\n",
    "paramGrid = ParamGridBuilder() \\\n",
    "    .addGrid(rf.maxDepth, [  x for x in range( 2, 15, 3 )   ]) \\\n",
    "    .addGrid(rf.numTrees, [  x for x in range( 2, 15, 3 )   ]) \\\n",
    "    .build()\n",
    "\n",
    "# cross-validation\n",
    "crossval = CrossValidator(estimator=rf,\n",
    "                          numFolds= 5,\n",
    "                           estimatorParamMaps=paramGrid,\n",
    "                           evaluator=BinaryClassificationEvaluator(labelCol='RainTomorrow_label',\n",
    "                                                                   rawPredictionCol='prediction',\n",
    "                                                                   metricName=\"areaUnderROC\"))\n",
    "\n",
    "cvModel = crossval.fit(trainingData)\n",
    "bestModel = cvModel.bestModel"
   ]
  },
  {
   "cell_type": "markdown",
   "metadata": {
    "id": "y3McNkjdgq5N"
   },
   "source": [
    "Best Parameters"
   ]
  },
  {
   "cell_type": "code",
   "execution_count": null,
   "metadata": {
    "colab": {
     "base_uri": "https://localhost:8080/"
    },
    "id": "ZMmjTkNde5kd",
    "outputId": "577d5d96-c13b-4f41-b7f4-5480e8ada7c7"
   },
   "outputs": [
    {
     "data": {
      "text/plain": [
       "RandomForestClassificationModel: uid=RandomForestClassifier_d777b38f454b, numTrees=11, numClasses=3, numFeatures=14"
      ]
     },
     "execution_count": 90,
     "metadata": {},
     "output_type": "execute_result"
    }
   ],
   "source": [
    "bestModel"
   ]
  },
  {
   "cell_type": "code",
   "execution_count": null,
   "metadata": {
    "id": "uDj4vyskgbH9"
   },
   "outputs": [],
   "source": []
  },
  {
   "cell_type": "code",
   "execution_count": null,
   "metadata": {
    "colab": {
     "base_uri": "https://localhost:8080/"
    },
    "id": "_aoFizBC7uKJ",
    "outputId": "94510532-1bdd-401d-af41-5eefdcb15293"
   },
   "outputs": [
    {
     "name": "stdout",
     "output_type": "stream",
     "text": [
      "+--------------------+------------------+----------+\n",
      "|            features|RainTomorrow_label|prediction|\n",
      "+--------------------+------------------+----------+\n",
      "|[-5.2,14.0,0.4,7....|               0.0|       0.0|\n",
      "|[-3.7,14.5,0.0,4....|               0.0|       0.0|\n",
      "|[-3.7,14.7,0.0,10...|               0.0|       0.0|\n",
      "|[-3.6,10.8,0.6,0....|               0.0|       0.0|\n",
      "|[-3.6,12.4,0.0,12...|               0.0|       0.0|\n",
      "|[-3.5,7.6,0.4,13....|               0.0|       0.0|\n",
      "|[-3.5,11.2,0.0,9....|               0.0|       0.0|\n",
      "|[-3.3,13.2,0.2,12...|               0.0|       0.0|\n",
      "|[-3.2,15.7,0.0,7....|               0.0|       0.0|\n",
      "|[-3.0,15.4,0.6,8....|               0.0|       0.0|\n",
      "+--------------------+------------------+----------+\n",
      "only showing top 10 rows\n",
      "\n"
     ]
    }
   ],
   "source": [
    "predictions = bestModel.transform(testData)\n",
    "predictions.select('features', 'RainTomorrow_label', 'prediction').show(10)"
   ]
  },
  {
   "cell_type": "code",
   "execution_count": null,
   "metadata": {
    "id": "BBDT0sC87uHx"
   },
   "outputs": [],
   "source": []
  },
  {
   "cell_type": "code",
   "execution_count": null,
   "metadata": {
    "id": "E_WrUPGT7uEv"
   },
   "outputs": [],
   "source": []
  },
  {
   "cell_type": "markdown",
   "metadata": {
    "id": "uw243gx-7ul_"
   },
   "source": [
    "# Model Evaluation"
   ]
  },
  {
   "cell_type": "code",
   "execution_count": null,
   "metadata": {
    "colab": {
     "base_uri": "https://localhost:8080/"
    },
    "id": "ISya28gX7wb7",
    "outputId": "c9a6412f-8b18-4c40-b9be-a4e35a3fe62a"
   },
   "outputs": [
    {
     "name": "stdout",
     "output_type": "stream",
     "text": [
      "0.7181498373759466\n"
     ]
    }
   ],
   "source": [
    "evaluator = BinaryClassificationEvaluator(rawPredictionCol='prediction',\n",
    "                                                labelCol='RainTomorrow_label',\n",
    "                                                metricName=\"areaUnderROC\")\n",
    "print( evaluator.evaluate(predictions))"
   ]
  },
  {
   "cell_type": "code",
   "execution_count": null,
   "metadata": {
    "id": "HQPzQ5zz7wei"
   },
   "outputs": [],
   "source": [
    "from tabulate import tabulate\n",
    "TP = predictions.filter((predictions['prediction'] == 1.0) & (predictions['RainTomorrow_label'] == 1)).count() +0.1 # evita ZeroDivisionError\n",
    "FP = predictions.filter((predictions['prediction'] == 1.0) & (predictions['RainTomorrow_label'] == 0)).count()\n",
    "TN = predictions.filter((predictions['prediction'] == 0.0) & (predictions['RainTomorrow_label'] == 0)).count()\n",
    "FN = predictions.filter((predictions['prediction'] == 0.0) & (predictions['RainTomorrow_label'] == 1)).count()\n"
   ]
  },
  {
   "cell_type": "markdown",
   "metadata": {
    "id": "590oC2HVjJ0m"
   },
   "source": [
    "Confusion Matrix"
   ]
  },
  {
   "cell_type": "code",
   "execution_count": null,
   "metadata": {
    "colab": {
     "base_uri": "https://localhost:8080/"
    },
    "id": "6HUsvzG2jJmW",
    "outputId": "fd8a4abc-8424-480f-f3e5-de9fcc4af034"
   },
   "outputs": [
    {
     "name": "stdout",
     "output_type": "stream",
     "text": [
      "| Pred\\Actual | Yes    | No    |\n",
      "| Yes:        | 1851.1 | 727   |\n",
      "| No:         | 1895   | 12402 |\n"
     ]
    }
   ],
   "source": [
    "print(tabulate([['Pred\\Actual', 'Yes', 'No'], \n",
    "                    ['Yes:', TP, FP], \n",
    "                    ['No:', FN, TN]], tablefmt='orgtbl'))"
   ]
  },
  {
   "cell_type": "code",
   "execution_count": null,
   "metadata": {
    "id": "af7es9dJkERM"
   },
   "outputs": [],
   "source": []
  },
  {
   "cell_type": "markdown",
   "metadata": {
    "id": "t_3xhjkpkGAt"
   },
   "source": [
    "Best Accuracy"
   ]
  },
  {
   "cell_type": "code",
   "execution_count": null,
   "metadata": {
    "colab": {
     "base_uri": "https://localhost:8080/"
    },
    "id": "cb7rIJwV7xC_",
    "outputId": "ac8bc3a6-4557-4083-db7a-fdd7b6a3c7a3"
   },
   "outputs": [
    {
     "name": "stdout",
     "output_type": "stream",
     "text": [
      "| Accuracy:  | 0.844623 |\n",
      "| Precision: | 0.718009 |\n",
      "| Recall:    | 0.494141 |\n"
     ]
    }
   ],
   "source": [
    "print(tabulate([['Accuracy:', (TP+TN)/(TP+TN+FP+FN)], \n",
    "                    ['Precision:', TP/(TP+FP)], \n",
    "                    ['Recall:', TP/(TP+FN)]], tablefmt='orgtbl'))"
   ]
  },
  {
   "cell_type": "markdown",
   "metadata": {
    "id": "A_myqdZKgxNu"
   },
   "source": [
    "# Feature Importance"
   ]
  },
  {
   "cell_type": "code",
   "execution_count": null,
   "metadata": {
    "colab": {
     "base_uri": "https://localhost:8080/"
    },
    "id": "dy3pjAha7xAP",
    "outputId": "1acb0cd2-7eec-425d-9bdb-df86c44392b7"
   },
   "outputs": [
    {
     "data": {
      "text/plain": [
       "SparseVector(14, {0: 0.0534, 1: 0.0474, 2: 0.0653, 3: 0.0504, 4: 0.0804, 5: 0.0597, 6: 0.0561, 7: 0.0412, 8: 0.0422, 9: 0.0674, 10: 0.2856, 11: 0.0539, 12: 0.0711, 13: 0.0259})"
      ]
     },
     "execution_count": 100,
     "metadata": {},
     "output_type": "execute_result"
    }
   ],
   "source": [
    "bestModel.featureImportances"
   ]
  },
  {
   "cell_type": "code",
   "execution_count": null,
   "metadata": {
    "colab": {
     "base_uri": "https://localhost:8080/",
     "height": 488
    },
    "id": "RDwb6IuLhfAW",
    "outputId": "feb0534c-88c1-44ed-8fe0-d382212804c8"
   },
   "outputs": [
    {
     "data": {
      "text/html": [
       "\n",
       "  <div id=\"df-2ad93bb9-540e-4e18-8276-002d5153c95b\">\n",
       "    <div class=\"colab-df-container\">\n",
       "      <div>\n",
       "<style scoped>\n",
       "    .dataframe tbody tr th:only-of-type {\n",
       "        vertical-align: middle;\n",
       "    }\n",
       "\n",
       "    .dataframe tbody tr th {\n",
       "        vertical-align: top;\n",
       "    }\n",
       "\n",
       "    .dataframe thead th {\n",
       "        text-align: right;\n",
       "    }\n",
       "</style>\n",
       "<table border=\"1\" class=\"dataframe\">\n",
       "  <thead>\n",
       "    <tr style=\"text-align: right;\">\n",
       "      <th></th>\n",
       "      <th>features</th>\n",
       "      <th>importance</th>\n",
       "    </tr>\n",
       "  </thead>\n",
       "  <tbody>\n",
       "    <tr>\n",
       "      <th>10</th>\n",
       "      <td>Humidity3pm</td>\n",
       "      <td>0.285567</td>\n",
       "    </tr>\n",
       "    <tr>\n",
       "      <th>4</th>\n",
       "      <td>WindGustSpeed</td>\n",
       "      <td>0.080424</td>\n",
       "    </tr>\n",
       "    <tr>\n",
       "      <th>12</th>\n",
       "      <td>Pressure3pm</td>\n",
       "      <td>0.071093</td>\n",
       "    </tr>\n",
       "    <tr>\n",
       "      <th>9</th>\n",
       "      <td>Humidity9am</td>\n",
       "      <td>0.067449</td>\n",
       "    </tr>\n",
       "    <tr>\n",
       "      <th>2</th>\n",
       "      <td>Rainfall</td>\n",
       "      <td>0.065259</td>\n",
       "    </tr>\n",
       "    <tr>\n",
       "      <th>5</th>\n",
       "      <td>WindDir9am_label</td>\n",
       "      <td>0.059749</td>\n",
       "    </tr>\n",
       "    <tr>\n",
       "      <th>6</th>\n",
       "      <td>WindDir3pm_label</td>\n",
       "      <td>0.056112</td>\n",
       "    </tr>\n",
       "    <tr>\n",
       "      <th>11</th>\n",
       "      <td>Pressure9am</td>\n",
       "      <td>0.053946</td>\n",
       "    </tr>\n",
       "    <tr>\n",
       "      <th>0</th>\n",
       "      <td>MinTemp</td>\n",
       "      <td>0.053351</td>\n",
       "    </tr>\n",
       "    <tr>\n",
       "      <th>3</th>\n",
       "      <td>WindGustDir_label</td>\n",
       "      <td>0.050443</td>\n",
       "    </tr>\n",
       "    <tr>\n",
       "      <th>1</th>\n",
       "      <td>MaxTemp</td>\n",
       "      <td>0.047406</td>\n",
       "    </tr>\n",
       "    <tr>\n",
       "      <th>8</th>\n",
       "      <td>WindSpeed3pm</td>\n",
       "      <td>0.042170</td>\n",
       "    </tr>\n",
       "    <tr>\n",
       "      <th>7</th>\n",
       "      <td>WindSpeed9am</td>\n",
       "      <td>0.041159</td>\n",
       "    </tr>\n",
       "    <tr>\n",
       "      <th>13</th>\n",
       "      <td>RainToday_label</td>\n",
       "      <td>0.025872</td>\n",
       "    </tr>\n",
       "  </tbody>\n",
       "</table>\n",
       "</div>\n",
       "      <button class=\"colab-df-convert\" onclick=\"convertToInteractive('df-2ad93bb9-540e-4e18-8276-002d5153c95b')\"\n",
       "              title=\"Convert this dataframe to an interactive table.\"\n",
       "              style=\"display:none;\">\n",
       "        \n",
       "  <svg xmlns=\"http://www.w3.org/2000/svg\" height=\"24px\"viewBox=\"0 0 24 24\"\n",
       "       width=\"24px\">\n",
       "    <path d=\"M0 0h24v24H0V0z\" fill=\"none\"/>\n",
       "    <path d=\"M18.56 5.44l.94 2.06.94-2.06 2.06-.94-2.06-.94-.94-2.06-.94 2.06-2.06.94zm-11 1L8.5 8.5l.94-2.06 2.06-.94-2.06-.94L8.5 2.5l-.94 2.06-2.06.94zm10 10l.94 2.06.94-2.06 2.06-.94-2.06-.94-.94-2.06-.94 2.06-2.06.94z\"/><path d=\"M17.41 7.96l-1.37-1.37c-.4-.4-.92-.59-1.43-.59-.52 0-1.04.2-1.43.59L10.3 9.45l-7.72 7.72c-.78.78-.78 2.05 0 2.83L4 21.41c.39.39.9.59 1.41.59.51 0 1.02-.2 1.41-.59l7.78-7.78 2.81-2.81c.8-.78.8-2.07 0-2.86zM5.41 20L4 18.59l7.72-7.72 1.47 1.35L5.41 20z\"/>\n",
       "  </svg>\n",
       "      </button>\n",
       "      \n",
       "  <style>\n",
       "    .colab-df-container {\n",
       "      display:flex;\n",
       "      flex-wrap:wrap;\n",
       "      gap: 12px;\n",
       "    }\n",
       "\n",
       "    .colab-df-convert {\n",
       "      background-color: #E8F0FE;\n",
       "      border: none;\n",
       "      border-radius: 50%;\n",
       "      cursor: pointer;\n",
       "      display: none;\n",
       "      fill: #1967D2;\n",
       "      height: 32px;\n",
       "      padding: 0 0 0 0;\n",
       "      width: 32px;\n",
       "    }\n",
       "\n",
       "    .colab-df-convert:hover {\n",
       "      background-color: #E2EBFA;\n",
       "      box-shadow: 0px 1px 2px rgba(60, 64, 67, 0.3), 0px 1px 3px 1px rgba(60, 64, 67, 0.15);\n",
       "      fill: #174EA6;\n",
       "    }\n",
       "\n",
       "    [theme=dark] .colab-df-convert {\n",
       "      background-color: #3B4455;\n",
       "      fill: #D2E3FC;\n",
       "    }\n",
       "\n",
       "    [theme=dark] .colab-df-convert:hover {\n",
       "      background-color: #434B5C;\n",
       "      box-shadow: 0px 1px 3px 1px rgba(0, 0, 0, 0.15);\n",
       "      filter: drop-shadow(0px 1px 2px rgba(0, 0, 0, 0.3));\n",
       "      fill: #FFFFFF;\n",
       "    }\n",
       "  </style>\n",
       "\n",
       "      <script>\n",
       "        const buttonEl =\n",
       "          document.querySelector('#df-2ad93bb9-540e-4e18-8276-002d5153c95b button.colab-df-convert');\n",
       "        buttonEl.style.display =\n",
       "          google.colab.kernel.accessAllowed ? 'block' : 'none';\n",
       "\n",
       "        async function convertToInteractive(key) {\n",
       "          const element = document.querySelector('#df-2ad93bb9-540e-4e18-8276-002d5153c95b');\n",
       "          const dataTable =\n",
       "            await google.colab.kernel.invokeFunction('convertToInteractive',\n",
       "                                                     [key], {});\n",
       "          if (!dataTable) return;\n",
       "\n",
       "          const docLinkHtml = 'Like what you see? Visit the ' +\n",
       "            '<a target=\"_blank\" href=https://colab.research.google.com/notebooks/data_table.ipynb>data table notebook</a>'\n",
       "            + ' to learn more about interactive tables.';\n",
       "          element.innerHTML = '';\n",
       "          dataTable['output_type'] = 'display_data';\n",
       "          await google.colab.output.renderOutput(dataTable, element);\n",
       "          const docLink = document.createElement('div');\n",
       "          docLink.innerHTML = docLinkHtml;\n",
       "          element.appendChild(docLink);\n",
       "        }\n",
       "      </script>\n",
       "    </div>\n",
       "  </div>\n",
       "  "
      ],
      "text/plain": [
       "             features  importance\n",
       "10        Humidity3pm    0.285567\n",
       "4       WindGustSpeed    0.080424\n",
       "12        Pressure3pm    0.071093\n",
       "9         Humidity9am    0.067449\n",
       "2            Rainfall    0.065259\n",
       "5    WindDir9am_label    0.059749\n",
       "6    WindDir3pm_label    0.056112\n",
       "11        Pressure9am    0.053946\n",
       "0             MinTemp    0.053351\n",
       "3   WindGustDir_label    0.050443\n",
       "1             MaxTemp    0.047406\n",
       "8        WindSpeed3pm    0.042170\n",
       "7        WindSpeed9am    0.041159\n",
       "13    RainToday_label    0.025872"
      ]
     },
     "execution_count": 109,
     "metadata": {},
     "output_type": "execute_result"
    }
   ],
   "source": [
    "import pandas as pd\n",
    "df = pd.DataFrame(list(zip([\"MinTemp\",\"MaxTemp\",\"Rainfall\",\"WindGustDir_label\",\"WindGustSpeed\",\\\n",
    "                                              \"WindDir9am_label\",\\\n",
    "                                              \"WindDir3pm_label\",\"WindSpeed9am\",\"WindSpeed3pm\",\"Humidity9am\",\\\n",
    "                                              \"Humidity3pm\",\\\n",
    "                                              \"Pressure9am\",\"Pressure3pm\",\n",
    "                                              \"RainToday_label\"], list(bestModel.featureImportances))),\n",
    "               columns =['features', 'importance'])\n",
    "\n",
    "df.sort_values(by=['importance'], ascending=False)\n"
   ]
  },
  {
   "cell_type": "markdown",
   "metadata": {
    "id": "PG_mxTmviX8G"
   },
   "source": [
    "As we can see form the top 5 features viz. Humidity3pm, WindGustSpeed, Pressure3pm, Humidity9am, Rainfall.\n",
    "\n",
    "As Today is the rainfal then there is more chance that it will rain tomm. \n",
    "\n",
    "In similar way we can see that if wind and humidity is there at day time then the rain fall has higher chance as at night it may or may not rain coz the temperature is already low."
   ]
  },
  {
   "cell_type": "code",
   "execution_count": null,
   "metadata": {
    "id": "VJBMNIe9iWct"
   },
   "outputs": [],
   "source": []
  },
  {
   "cell_type": "markdown",
   "metadata": {
    "id": "-KfuSshI71_n"
   },
   "source": [
    "# Insights\n",
    "* Skewed Data towards No rain.\n",
    "* Negative correlation abount Humidity and Airpressure.\n",
    "* The possibility of rain increases during the day when wind and humidity are present.\n",
    "* Sunshine', 'Evaporation', 'Cloud3pm' and 'Cloud9am' as 38 % of missing data."
   ]
  },
  {
   "cell_type": "code",
   "execution_count": null,
   "metadata": {
    "id": "2uzx1HKN73QW"
   },
   "outputs": [],
   "source": []
  },
  {
   "cell_type": "code",
   "execution_count": null,
   "metadata": {
    "id": "EQYWnzRF734P"
   },
   "outputs": [],
   "source": []
  }
 ],
 "metadata": {
  "colab": {
   "collapsed_sections": [],
   "provenance": []
  },
  "kernelspec": {
   "display_name": "Python 3 (ipykernel)",
   "language": "python",
   "name": "python3"
  },
  "language_info": {
   "codemirror_mode": {
    "name": "ipython",
    "version": 3
   },
   "file_extension": ".py",
   "mimetype": "text/x-python",
   "name": "python",
   "nbconvert_exporter": "python",
   "pygments_lexer": "ipython3",
   "version": "3.8.13"
  }
 },
 "nbformat": 4,
 "nbformat_minor": 1
}
